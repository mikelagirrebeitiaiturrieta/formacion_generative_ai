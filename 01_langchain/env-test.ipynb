{
 "cells": [
  {
   "cell_type": "markdown",
   "metadata": {},
   "source": [
    "## Environment Setup Test"
   ]
  },
  {
   "cell_type": "markdown",
   "metadata": {},
   "source": [
    "Run the cell below to validate that you have properly configured your virtual environment"
   ]
  },
  {
   "cell_type": "code",
   "execution_count": 5,
   "metadata": {},
   "outputs": [],
   "source": [
    "import os\n",
    "import json\n",
    "import requests\n",
    "\n",
    "import chromadb\n",
    "from ibm_watson_machine_learning.foundation_models import Model\n",
    "from dotenv import load_dotenv\n",
    "from langchain import PromptTemplate\n",
    "from typing import Optional, Any, Iterable, List\n",
    "\n",
    "print(\"Done importing dependencies.\")"
   ]
  },
  {
   "cell_type": "markdown",
   "metadata": {},
   "source": [
    "### Errors above or not?\n",
    "If no errors appear when executing the cell above, then proceed to the next steps in the workshop material. If errors appear, go back and make sure the requirements are met.\n",
    "\n",
    "1. Make sure virtual environment is active\n",
    "2. Make sure dependencies installed correctly"
   ]
  }
 ],
 "metadata": {
  "kernelspec": {
   "display_name": "Python 3 (ipykernel)",
   "language": "python",
   "name": "python3"
  },
  "language_info": {
   "codemirror_mode": {
    "name": "ipython",
    "version": 3
   },
   "file_extension": ".py",
   "mimetype": "text/x-python",
   "name": "python",
   "nbconvert_exporter": "python",
   "pygments_lexer": "ipython3",
   "version": "3.11.4"
  }
 },
 "nbformat": 4,
 "nbformat_minor": 2
}

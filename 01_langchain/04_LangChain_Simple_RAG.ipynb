{
 "cells": [
  {
   "cell_type": "markdown",
   "metadata": {},
   "source": [
    "![image](https://raw.githubusercontent.com/IBM/watson-machine-learning-samples/master/cloud/notebooks/headers/watsonx-Prompt_Lab-Notebook.png)\n",
    "\n",
    "# Implement a simple RAG use case with LangChain\n",
    "\n",
    "_Retrieval Augmented Generation (RAG)_ allows us to use LLMs to interact with \"external data\" i.e. data that was not used for model training. Many use cases require working with proprietary company data, and it's one of the reasons why RAG is frequently used in generative AI applications.\n",
    "\n",
    "There is more than one way to implement the RAG pattern, which we will cover in a later lab. In this notebook, we will use _LangChain's RetrievalQA_ API to demonstrate one implementation of a RAG pattern. In general, RAG can be used for more than just question-and-answer use cases, but as you can tell from the name of the API, _RetrievalQA_ was implemented specifically for question-and-answer. \n",
    "\n",
    "To get started we'll first verify that you have the necessary dependencies installed to run this notebook.\n",
    "\n",
    "Go ahead and run the following code cell. **This may take a few seconds to complete.**\n"
   ]
  },
  {
   "cell_type": "markdown",
   "metadata": {},
   "source": [
    "## Bring in dependencies\n",
    "\n",
    "In this next code cell we'll bring in all the dependencies we'll need for later use.\n",
    "\n",
    "Go ahead and run the following code cell. **There should be no ouput.**"
   ]
  },
  {
   "cell_type": "code",
   "execution_count": 1,
   "metadata": {},
   "outputs": [
    {
     "data": {
      "text/plain": [
       "False"
      ]
     },
     "execution_count": 1,
     "metadata": {},
     "output_type": "execute_result"
    }
   ],
   "source": [
    "# Bring in dependencies\n",
    "# SQLite fix: https://docs.trychroma.com/troubleshooting#sqlite\n",
    "# __import__('pysqlite3')\n",
    "# import sys\n",
    "# sys.modules['sqlite3'] = sys.modules.pop('pysqlite3')\n",
    "\n",
    "from langchain.document_loaders.pdf import PyPDFLoader\n",
    "from langchain.chains import RetrievalQA\n",
    "from langchain.indexes import VectorstoreIndexCreator\n",
    "from langchain.embeddings import HuggingFaceEmbeddings\n",
    "from langchain.text_splitter import CharacterTextSplitter\n",
    "\n",
    "# WML python SDK\n",
    "from ibm_watson_machine_learning.foundation_models import Model\n",
    "from ibm_watson_machine_learning.metanames import GenTextParamsMetaNames as GenParams\n",
    "from ibm_watson_machine_learning.foundation_models.utils.enums import ModelTypes, DecodingMethods\n",
    "from ibm_watson_machine_learning.foundation_models.extensions.langchain import WatsonxLLM\n",
    "\n",
    "from dotenv import load_dotenv\n",
    "import os\n",
    "load_dotenv('../../.env')"
   ]
  },
  {
   "cell_type": "markdown",
   "metadata": {},
   "source": [
    "\n",
    "## Some important variables\n",
    "\n",
    "In this next code cell you'll define some variables that will be used in order to interact with your instance of watsonx.ai.\n",
    "\n",
    "Go ahead and run the following code cell. **There should be no ouput**"
   ]
  },
  {
   "cell_type": "code",
   "execution_count": 2,
   "metadata": {},
   "outputs": [],
   "source": [
    "\n",
    "# Update the global variables that will be used for authentication in another function\n",
    "watsonx_project_id = os.environ.get(\"project_id\")\n",
    "api_key = os.environ.get(\"api_key\")\n",
    "url = os.environ.get(\"IBM_CLOUD_URL\")"
   ]
  },
  {
   "cell_type": "markdown",
   "metadata": {},
   "source": [
    "## Understanding the code\n",
    "\n",
    "In this next code cell we'll create some functions that we can use later to interact easier with watsonx.ai. These functions are ***get_model()***, ***get_lang_chain_model()***, and ***answer_question_from_doc()***:\n",
    "\n",
    "- ***get_model()***: creates a model object that will be used to invoke the LLM. Since the ***get_model()*** function is parametrized, it's the same in all examples.\n",
    "- ***get_lang_chain_model()***: creates a model wrapper that will be used with the _LangChain_ API.\n",
    "- ***answer_question_from_doc()*** specifies model parameters, loads the PDF file, creates an index from the loaded document, the instantiates and invokes the chain.\n",
    "\n",
    "Go ahead and run the following code cell. **There should be no ouput**."
   ]
  },
  {
   "cell_type": "code",
   "execution_count": 3,
   "metadata": {},
   "outputs": [],
   "source": [
    "def get_model(model_type,max_tokens,min_tokens,decoding,temperature):\n",
    "\n",
    "    generate_params = {\n",
    "        GenParams.MAX_NEW_TOKENS: max_tokens,\n",
    "        GenParams.MIN_NEW_TOKENS: min_tokens,\n",
    "        GenParams.DECODING_METHOD: decoding,\n",
    "        GenParams.TEMPERATURE: temperature\n",
    "    }\n",
    "\n",
    "    model = Model(\n",
    "        model_id=model_type,\n",
    "        params=generate_params,\n",
    "        credentials={\n",
    "            \"apikey\": api_key,\n",
    "            \"url\": url\n",
    "        },\n",
    "        project_id=watsonx_project_id\n",
    "    )\n",
    "\n",
    "    return model\n",
    "\n",
    "def get_lang_chain_model(model_type,max_tokens,min_tokens,decoding,temperature):\n",
    "\n",
    "    base_model = get_model(model_type,max_tokens,min_tokens,decoding,temperature)\n",
    "    langchain_model = WatsonxLLM(model=base_model)\n",
    "\n",
    "    return langchain_model\n"
   ]
  },
  {
   "cell_type": "markdown",
   "metadata": {},
   "source": [
    "## Gluing it together\n",
    "\n",
    "The next function, `answer_questions_from_doc`, that we create is created to help combine the previous three that we defined. This is the wrapper that we will call when we want to interact with watsonx.ai.\n",
    "\n",
    "Go ahead and run the following code cell. **There should be no ouput**."
   ]
  },
  {
   "cell_type": "code",
   "execution_count": 4,
   "metadata": {},
   "outputs": [],
   "source": [
    "def answer_questions_from_doc(file_path, question):\n",
    "\n",
    "  # Specify model parameters\n",
    "  model_type = \"meta-llama/llama-2-70b-chat\"\n",
    "  max_tokens = 300\n",
    "  min_tokens = 100\n",
    "  decoding = DecodingMethods.GREEDY\n",
    "  temperature = 0.7\n",
    "\n",
    "  # Get the watsonx model that can be used with LangChain\n",
    "  model = get_lang_chain_model(model_type, max_tokens, min_tokens, decoding, temperature)\n",
    "\n",
    "  loaders = [PyPDFLoader(file_path)]\n",
    "\n",
    "  index = VectorstoreIndexCreator(\n",
    "      embedding=HuggingFaceEmbeddings(),\n",
    "      text_splitter=CharacterTextSplitter(chunk_size=1000, chunk_overlap=100)).from_loaders(loaders)\n",
    "\n",
    "  chain = RetrievalQA.from_chain_type(llm=model,\n",
    "                                      chain_type=\"stuff\",\n",
    "                                      retriever=index.vectorstore.as_retriever(),\n",
    "                                      input_key=\"question\")\n",
    "\n",
    "  # Invoke the chain\n",
    "  response_text = chain.run(question)\n",
    "\n",
    "  # print model response\n",
    "  print(\"--------------------------------- Generated response -----------------------------------\")\n",
    "  print(response_text)\n",
    "  print(\"*********************************************************************************************\")\n",
    "\n",
    "  return response_text\n"
   ]
  },
  {
   "cell_type": "markdown",
   "metadata": {},
   "source": [
    "## Answering some questions\n",
    "\n",
    "The next code cell will use all the previous code we've created so far to source information from the input documents and ask a question about them using watsonx.ai (Notice the use of the `answer_questions_from_doc`).\n",
    "\n",
    "To do so we'll pass in a question we want to ask, the PDF file we want to reference for said question, and finally the name of the collection where the embeddings of the file exist.\n",
    "\n",
    "Notice the commented questions as well? Feel free to uncomment these or create some or your own to ask\n",
    "\n",
    "Go ahead and run the next code cell. **You _will_ see output from this cell**"
   ]
  },
  {
   "cell_type": "code",
   "execution_count": 5,
   "metadata": {},
   "outputs": [
    {
     "name": "stderr",
     "output_type": "stream",
     "text": [
      "c:\\Users\\admin\\OneDrive - Bittek Soluciones Tecnológicas\\FORMACION\\generative_ai\\generative_ai\\watsonx_env\\Lib\\site-packages\\tqdm\\auto.py:21: TqdmWarning: IProgress not found. Please update jupyter and ipywidgets. See https://ipywidgets.readthedocs.io/en/stable/user_install.html\n",
      "  from .autonotebook import tqdm as notebook_tqdm\n",
      "c:\\Users\\admin\\OneDrive - Bittek Soluciones Tecnológicas\\FORMACION\\generative_ai\\generative_ai\\watsonx_env\\Lib\\site-packages\\huggingface_hub\\file_download.py:157: UserWarning: `huggingface_hub` cache-system uses symlinks by default to efficiently store duplicated files but your machine does not support them in C:\\Users\\admin\\.cache\\huggingface\\hub\\models--sentence-transformers--all-mpnet-base-v2. Caching files will still work but in a degraded version that might require more space on your disk. This warning can be disabled by setting the `HF_HUB_DISABLE_SYMLINKS_WARNING` environment variable. For more details, see https://huggingface.co/docs/huggingface_hub/how-to-cache#limitations.\n",
      "To support symlinks on Windows, you either need to activate Developer Mode or to run Python as an administrator. In order to see activate developer mode, see this article: https://docs.microsoft.com/en-us/windows/apps/get-started/enable-your-device-for-development\n",
      "  warnings.warn(message)\n",
      "c:\\Users\\admin\\OneDrive - Bittek Soluciones Tecnológicas\\FORMACION\\generative_ai\\generative_ai\\watsonx_env\\Lib\\site-packages\\langchain_core\\_api\\deprecation.py:119: LangChainDeprecationWarning: The method `Chain.run` was deprecated in langchain 0.1.0 and will be removed in 0.2.0. Use invoke instead.\n",
      "  warn_deprecated(\n"
     ]
    },
    {
     "name": "stdout",
     "output_type": "stream",
     "text": [
      "--------------------------------- Generated response -----------------------------------\n",
      " Generative AI is a form of artificial intelligence that can create new content, such as audio, code, images, text, simulations, and videos. It uses machine learning algorithms, such as ChatGPT, to generate new content based on the data used to train the models. Generative AI models can be used for a wide range of tasks, such as producing written materials, creating art, and generating code. However, they also have limitations, such as the potential for biased or incorrect output, and organizations should carefully consider these risks when using them.\n",
      "*********************************************************************************************\n"
     ]
    },
    {
     "data": {
      "text/plain": [
       "' Generative AI is a form of artificial intelligence that can create new content, such as audio, code, images, text, simulations, and videos. It uses machine learning algorithms, such as ChatGPT, to generate new content based on the data used to train the models. Generative AI models can be used for a wide range of tasks, such as producing written materials, creating art, and generating code. However, they also have limitations, such as the potential for biased or incorrect output, and organizations should carefully consider these risks when using them.'"
      ]
     },
     "execution_count": 5,
     "metadata": {},
     "output_type": "execute_result"
    }
   ],
   "source": [
    "# Test answering questions based on the provided .pdf file\n",
    "question = \"What is Generative AI?\"\n",
    "# question = \"What does it take to build a generative AI model?\"\n",
    "# question = \"What are the limitations of generative AI models?\"\n",
    "file_path = \"https://raw.githubusercontent.com/CloudPak-Outcomes/Outcomes-Projects/main/L4assets/watsonx.ai-Assets/Documents/Generative_AI_Overview.pdf\"\n",
    "\n",
    "answer_questions_from_doc(file_path, question)\n"
   ]
  },
  {
   "cell_type": "markdown",
   "metadata": {},
   "source": [
    "## Try your own simple RAG\n",
    "Taking the previous code lines as example, try to create your own RAG system with documents related to an area that you like. After that, try making some questions to the model and test if the returned answers are correct or not."
   ]
  },
  {
   "cell_type": "code",
   "execution_count": null,
   "metadata": {},
   "outputs": [],
   "source": []
  }
 ],
 "metadata": {
  "kernelspec": {
   "display_name": ".venv",
   "language": "python",
   "name": "python3"
  },
  "language_info": {
   "codemirror_mode": {
    "name": "ipython",
    "version": 3
   },
   "file_extension": ".py",
   "mimetype": "text/x-python",
   "name": "python",
   "nbconvert_exporter": "python",
   "pygments_lexer": "ipython3",
   "version": "3.11.0"
  }
 },
 "nbformat": 4,
 "nbformat_minor": 2
}

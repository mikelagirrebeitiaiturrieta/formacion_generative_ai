{
 "cells": [
  {
   "cell_type": "markdown",
   "metadata": {},
   "source": [
    "## Requisitos"
   ]
  },
  {
   "cell_type": "markdown",
   "metadata": {},
   "source": [
    "Es necesario instalar el ejecutable ffmpeg para poder ejecutar este script. Seguir los pasos de instalación del siguiente repo sobre la <a href='https://github.com/jiaaro/pydub?tab=readme-ov-file#installation'>libreria pydub</a>.\n",
    "\n",
    "EN caso de recibir error al ejecutar la función Play(), sobre el fichero .py de play modificar la linea 14 de código sustituyendo por lo siguiente:\n",
    "```python\n",
    "with NamedTemporaryFile(\"w+b\", suffix=\".wav\", delete=False) as f:\n",
    "```\n",
    "\n",
    "Para poder ejecutar la librería pyaudio es necesario instalar **portaudio** a nivel del equipo, esto solo es necesario para ejecutar la última celda en la que conectaremos el asistente al micrófono de nuestro equipo."
   ]
  },
  {
   "cell_type": "markdown",
   "metadata": {},
   "source": [
    "## Instlación de librerias"
   ]
  },
  {
   "cell_type": "code",
   "execution_count": 2,
   "metadata": {},
   "outputs": [
    {
     "name": "stdout",
     "output_type": "stream",
     "text": [
      "Collecting speechrecognition\n",
      "  Downloading SpeechRecognition-3.10.4-py2.py3-none-any.whl.metadata (28 kB)\n",
      "Requirement already satisfied: requests>=2.26.0 in /Users/ignacioarriola/Documents/Global/Formacion/formacion_generative_ai/watsonx-env/lib/python3.12/site-packages (from speechrecognition) (2.32.3)\n",
      "Requirement already satisfied: typing-extensions in /Users/ignacioarriola/Documents/Global/Formacion/formacion_generative_ai/watsonx-env/lib/python3.12/site-packages (from speechrecognition) (4.12.1)\n",
      "Requirement already satisfied: charset-normalizer<4,>=2 in /Users/ignacioarriola/Documents/Global/Formacion/formacion_generative_ai/watsonx-env/lib/python3.12/site-packages (from requests>=2.26.0->speechrecognition) (3.3.2)\n",
      "Requirement already satisfied: idna<4,>=2.5 in /Users/ignacioarriola/Documents/Global/Formacion/formacion_generative_ai/watsonx-env/lib/python3.12/site-packages (from requests>=2.26.0->speechrecognition) (3.7)\n",
      "Requirement already satisfied: urllib3<3,>=1.21.1 in /Users/ignacioarriola/Documents/Global/Formacion/formacion_generative_ai/watsonx-env/lib/python3.12/site-packages (from requests>=2.26.0->speechrecognition) (2.1.0)\n",
      "Requirement already satisfied: certifi>=2017.4.17 in /Users/ignacioarriola/Documents/Global/Formacion/formacion_generative_ai/watsonx-env/lib/python3.12/site-packages (from requests>=2.26.0->speechrecognition) (2024.6.2)\n",
      "Downloading SpeechRecognition-3.10.4-py2.py3-none-any.whl (32.8 MB)\n",
      "\u001b[2K   \u001b[90m━━━━━━━━━━━━━━━━━━━━━━━━━━━━━━━━━━━━━━━━\u001b[0m \u001b[32m32.8/32.8 MB\u001b[0m \u001b[31m4.3 MB/s\u001b[0m eta \u001b[36m0:00:00\u001b[0m00:01\u001b[0m00:01\u001b[0m\n",
      "\u001b[?25hInstalling collected packages: speechrecognition\n",
      "Successfully installed speechrecognition-3.10.4\n",
      "Requirement already satisfied: ibm_watson_machine_learning in /Users/ignacioarriola/Documents/Global/Formacion/formacion_generative_ai/watsonx-env/lib/python3.12/site-packages (1.0.345)\n",
      "Requirement already satisfied: requests in /Users/ignacioarriola/Documents/Global/Formacion/formacion_generative_ai/watsonx-env/lib/python3.12/site-packages (from ibm_watson_machine_learning) (2.32.3)\n",
      "Requirement already satisfied: urllib3 in /Users/ignacioarriola/Documents/Global/Formacion/formacion_generative_ai/watsonx-env/lib/python3.12/site-packages (from ibm_watson_machine_learning) (2.1.0)\n",
      "Requirement already satisfied: pandas<1.6.0,>=0.24.2 in /Users/ignacioarriola/Documents/Global/Formacion/formacion_generative_ai/watsonx-env/lib/python3.12/site-packages (from ibm_watson_machine_learning) (1.5.3)\n",
      "Requirement already satisfied: certifi in /Users/ignacioarriola/Documents/Global/Formacion/formacion_generative_ai/watsonx-env/lib/python3.12/site-packages (from ibm_watson_machine_learning) (2024.6.2)\n",
      "Requirement already satisfied: lomond in /Users/ignacioarriola/Documents/Global/Formacion/formacion_generative_ai/watsonx-env/lib/python3.12/site-packages (from ibm_watson_machine_learning) (0.3.3)\n",
      "Requirement already satisfied: tabulate in /Users/ignacioarriola/Documents/Global/Formacion/formacion_generative_ai/watsonx-env/lib/python3.12/site-packages (from ibm_watson_machine_learning) (0.9.0)\n",
      "Requirement already satisfied: packaging in /Users/ignacioarriola/Documents/Global/Formacion/formacion_generative_ai/watsonx-env/lib/python3.12/site-packages (from ibm_watson_machine_learning) (23.2)\n",
      "Requirement already satisfied: importlib-metadata in /Users/ignacioarriola/Documents/Global/Formacion/formacion_generative_ai/watsonx-env/lib/python3.12/site-packages (from ibm_watson_machine_learning) (7.1.0)\n",
      "Requirement already satisfied: ibm-cos-sdk<2.14.0,>=2.12.0 in /Users/ignacioarriola/Documents/Global/Formacion/formacion_generative_ai/watsonx-env/lib/python3.12/site-packages (from ibm_watson_machine_learning) (2.13.4)\n",
      "Requirement already satisfied: ibm-cos-sdk-core==2.13.4 in /Users/ignacioarriola/Documents/Global/Formacion/formacion_generative_ai/watsonx-env/lib/python3.12/site-packages (from ibm-cos-sdk<2.14.0,>=2.12.0->ibm_watson_machine_learning) (2.13.4)\n",
      "Requirement already satisfied: ibm-cos-sdk-s3transfer==2.13.4 in /Users/ignacioarriola/Documents/Global/Formacion/formacion_generative_ai/watsonx-env/lib/python3.12/site-packages (from ibm-cos-sdk<2.14.0,>=2.12.0->ibm_watson_machine_learning) (2.13.4)\n",
      "Requirement already satisfied: jmespath<=1.0.1,>=0.10.0 in /Users/ignacioarriola/Documents/Global/Formacion/formacion_generative_ai/watsonx-env/lib/python3.12/site-packages (from ibm-cos-sdk<2.14.0,>=2.12.0->ibm_watson_machine_learning) (1.0.1)\n",
      "Requirement already satisfied: python-dateutil<3.0.0,>=2.8.2 in /Users/ignacioarriola/Documents/Global/Formacion/formacion_generative_ai/watsonx-env/lib/python3.12/site-packages (from ibm-cos-sdk-core==2.13.4->ibm-cos-sdk<2.14.0,>=2.12.0->ibm_watson_machine_learning) (2.9.0.post0)\n",
      "Requirement already satisfied: pytz>=2020.1 in /Users/ignacioarriola/Documents/Global/Formacion/formacion_generative_ai/watsonx-env/lib/python3.12/site-packages (from pandas<1.6.0,>=0.24.2->ibm_watson_machine_learning) (2024.1)\n",
      "Requirement already satisfied: numpy>=1.21.0 in /Users/ignacioarriola/Documents/Global/Formacion/formacion_generative_ai/watsonx-env/lib/python3.12/site-packages (from pandas<1.6.0,>=0.24.2->ibm_watson_machine_learning) (1.26.4)\n",
      "Requirement already satisfied: charset-normalizer<4,>=2 in /Users/ignacioarriola/Documents/Global/Formacion/formacion_generative_ai/watsonx-env/lib/python3.12/site-packages (from requests->ibm_watson_machine_learning) (3.3.2)\n",
      "Requirement already satisfied: idna<4,>=2.5 in /Users/ignacioarriola/Documents/Global/Formacion/formacion_generative_ai/watsonx-env/lib/python3.12/site-packages (from requests->ibm_watson_machine_learning) (3.7)\n",
      "Requirement already satisfied: zipp>=0.5 in /Users/ignacioarriola/Documents/Global/Formacion/formacion_generative_ai/watsonx-env/lib/python3.12/site-packages (from importlib-metadata->ibm_watson_machine_learning) (3.19.2)\n",
      "Requirement already satisfied: six>=1.10.0 in /Users/ignacioarriola/Documents/Global/Formacion/formacion_generative_ai/watsonx-env/lib/python3.12/site-packages (from lomond->ibm_watson_machine_learning) (1.16.0)\n",
      "Requirement already satisfied: langchain in /Users/ignacioarriola/Documents/Global/Formacion/formacion_generative_ai/watsonx-env/lib/python3.12/site-packages (0.1.11)\n",
      "Requirement already satisfied: PyYAML>=5.3 in /Users/ignacioarriola/Documents/Global/Formacion/formacion_generative_ai/watsonx-env/lib/python3.12/site-packages (from langchain) (6.0.1)\n",
      "Requirement already satisfied: SQLAlchemy<3,>=1.4 in /Users/ignacioarriola/Documents/Global/Formacion/formacion_generative_ai/watsonx-env/lib/python3.12/site-packages (from langchain) (2.0.30)\n",
      "Requirement already satisfied: aiohttp<4.0.0,>=3.8.3 in /Users/ignacioarriola/Documents/Global/Formacion/formacion_generative_ai/watsonx-env/lib/python3.12/site-packages (from langchain) (3.9.5)\n",
      "Requirement already satisfied: dataclasses-json<0.7,>=0.5.7 in /Users/ignacioarriola/Documents/Global/Formacion/formacion_generative_ai/watsonx-env/lib/python3.12/site-packages (from langchain) (0.6.6)\n",
      "Requirement already satisfied: jsonpatch<2.0,>=1.33 in /Users/ignacioarriola/Documents/Global/Formacion/formacion_generative_ai/watsonx-env/lib/python3.12/site-packages (from langchain) (1.33)\n",
      "Requirement already satisfied: langchain-community<0.1,>=0.0.25 in /Users/ignacioarriola/Documents/Global/Formacion/formacion_generative_ai/watsonx-env/lib/python3.12/site-packages (from langchain) (0.0.38)\n",
      "Requirement already satisfied: langchain-core<0.2,>=0.1.29 in /Users/ignacioarriola/Documents/Global/Formacion/formacion_generative_ai/watsonx-env/lib/python3.12/site-packages (from langchain) (0.1.52)\n",
      "Requirement already satisfied: langchain-text-splitters<0.1,>=0.0.1 in /Users/ignacioarriola/Documents/Global/Formacion/formacion_generative_ai/watsonx-env/lib/python3.12/site-packages (from langchain) (0.0.2)\n",
      "Requirement already satisfied: langsmith<0.2.0,>=0.1.17 in /Users/ignacioarriola/Documents/Global/Formacion/formacion_generative_ai/watsonx-env/lib/python3.12/site-packages (from langchain) (0.1.75)\n",
      "Requirement already satisfied: numpy<2,>=1 in /Users/ignacioarriola/Documents/Global/Formacion/formacion_generative_ai/watsonx-env/lib/python3.12/site-packages (from langchain) (1.26.4)\n",
      "Requirement already satisfied: pydantic<3,>=1 in /Users/ignacioarriola/Documents/Global/Formacion/formacion_generative_ai/watsonx-env/lib/python3.12/site-packages (from langchain) (1.10.0)\n",
      "Requirement already satisfied: requests<3,>=2 in /Users/ignacioarriola/Documents/Global/Formacion/formacion_generative_ai/watsonx-env/lib/python3.12/site-packages (from langchain) (2.32.3)\n",
      "Requirement already satisfied: tenacity<9.0.0,>=8.1.0 in /Users/ignacioarriola/Documents/Global/Formacion/formacion_generative_ai/watsonx-env/lib/python3.12/site-packages (from langchain) (8.3.0)\n",
      "Requirement already satisfied: aiosignal>=1.1.2 in /Users/ignacioarriola/Documents/Global/Formacion/formacion_generative_ai/watsonx-env/lib/python3.12/site-packages (from aiohttp<4.0.0,>=3.8.3->langchain) (1.3.1)\n",
      "Requirement already satisfied: attrs>=17.3.0 in /Users/ignacioarriola/Documents/Global/Formacion/formacion_generative_ai/watsonx-env/lib/python3.12/site-packages (from aiohttp<4.0.0,>=3.8.3->langchain) (23.2.0)\n",
      "Requirement already satisfied: frozenlist>=1.1.1 in /Users/ignacioarriola/Documents/Global/Formacion/formacion_generative_ai/watsonx-env/lib/python3.12/site-packages (from aiohttp<4.0.0,>=3.8.3->langchain) (1.4.1)\n",
      "Requirement already satisfied: multidict<7.0,>=4.5 in /Users/ignacioarriola/Documents/Global/Formacion/formacion_generative_ai/watsonx-env/lib/python3.12/site-packages (from aiohttp<4.0.0,>=3.8.3->langchain) (6.0.5)\n",
      "Requirement already satisfied: yarl<2.0,>=1.0 in /Users/ignacioarriola/Documents/Global/Formacion/formacion_generative_ai/watsonx-env/lib/python3.12/site-packages (from aiohttp<4.0.0,>=3.8.3->langchain) (1.9.4)\n",
      "Requirement already satisfied: marshmallow<4.0.0,>=3.18.0 in /Users/ignacioarriola/Documents/Global/Formacion/formacion_generative_ai/watsonx-env/lib/python3.12/site-packages (from dataclasses-json<0.7,>=0.5.7->langchain) (3.21.3)\n",
      "Requirement already satisfied: typing-inspect<1,>=0.4.0 in /Users/ignacioarriola/Documents/Global/Formacion/formacion_generative_ai/watsonx-env/lib/python3.12/site-packages (from dataclasses-json<0.7,>=0.5.7->langchain) (0.9.0)\n",
      "Requirement already satisfied: jsonpointer>=1.9 in /Users/ignacioarriola/Documents/Global/Formacion/formacion_generative_ai/watsonx-env/lib/python3.12/site-packages (from jsonpatch<2.0,>=1.33->langchain) (2.4)\n",
      "Requirement already satisfied: packaging<24.0,>=23.2 in /Users/ignacioarriola/Documents/Global/Formacion/formacion_generative_ai/watsonx-env/lib/python3.12/site-packages (from langchain-core<0.2,>=0.1.29->langchain) (23.2)\n",
      "Requirement already satisfied: orjson<4.0.0,>=3.9.14 in /Users/ignacioarriola/Documents/Global/Formacion/formacion_generative_ai/watsonx-env/lib/python3.12/site-packages (from langsmith<0.2.0,>=0.1.17->langchain) (3.10.3)\n",
      "Requirement already satisfied: typing-extensions>=4.1.0 in /Users/ignacioarriola/Documents/Global/Formacion/formacion_generative_ai/watsonx-env/lib/python3.12/site-packages (from pydantic<3,>=1->langchain) (4.12.1)\n",
      "Requirement already satisfied: charset-normalizer<4,>=2 in /Users/ignacioarriola/Documents/Global/Formacion/formacion_generative_ai/watsonx-env/lib/python3.12/site-packages (from requests<3,>=2->langchain) (3.3.2)\n",
      "Requirement already satisfied: idna<4,>=2.5 in /Users/ignacioarriola/Documents/Global/Formacion/formacion_generative_ai/watsonx-env/lib/python3.12/site-packages (from requests<3,>=2->langchain) (3.7)\n",
      "Requirement already satisfied: urllib3<3,>=1.21.1 in /Users/ignacioarriola/Documents/Global/Formacion/formacion_generative_ai/watsonx-env/lib/python3.12/site-packages (from requests<3,>=2->langchain) (2.1.0)\n",
      "Requirement already satisfied: certifi>=2017.4.17 in /Users/ignacioarriola/Documents/Global/Formacion/formacion_generative_ai/watsonx-env/lib/python3.12/site-packages (from requests<3,>=2->langchain) (2024.6.2)\n",
      "Requirement already satisfied: mypy-extensions>=0.3.0 in /Users/ignacioarriola/Documents/Global/Formacion/formacion_generative_ai/watsonx-env/lib/python3.12/site-packages (from typing-inspect<1,>=0.4.0->dataclasses-json<0.7,>=0.5.7->langchain) (1.0.0)\n",
      "Requirement already satisfied: load_dotenv in /Users/ignacioarriola/Documents/Global/Formacion/formacion_generative_ai/watsonx-env/lib/python3.12/site-packages (0.1.0)\n",
      "Requirement already satisfied: python-dotenv in /Users/ignacioarriola/Documents/Global/Formacion/formacion_generative_ai/watsonx-env/lib/python3.12/site-packages (from load_dotenv) (1.0.1)\n",
      "Requirement already satisfied: ipython in /Users/ignacioarriola/Documents/Global/Formacion/formacion_generative_ai/watsonx-env/lib/python3.12/site-packages (8.24.0)\n",
      "Requirement already satisfied: decorator in /Users/ignacioarriola/Documents/Global/Formacion/formacion_generative_ai/watsonx-env/lib/python3.12/site-packages (from ipython) (5.1.1)\n",
      "Requirement already satisfied: jedi>=0.16 in /Users/ignacioarriola/Documents/Global/Formacion/formacion_generative_ai/watsonx-env/lib/python3.12/site-packages (from ipython) (0.19.1)\n",
      "Requirement already satisfied: matplotlib-inline in /Users/ignacioarriola/Documents/Global/Formacion/formacion_generative_ai/watsonx-env/lib/python3.12/site-packages (from ipython) (0.1.7)\n",
      "Requirement already satisfied: prompt-toolkit<3.1.0,>=3.0.41 in /Users/ignacioarriola/Documents/Global/Formacion/formacion_generative_ai/watsonx-env/lib/python3.12/site-packages (from ipython) (3.0.46)\n",
      "Requirement already satisfied: pygments>=2.4.0 in /Users/ignacioarriola/Documents/Global/Formacion/formacion_generative_ai/watsonx-env/lib/python3.12/site-packages (from ipython) (2.18.0)\n",
      "Requirement already satisfied: stack-data in /Users/ignacioarriola/Documents/Global/Formacion/formacion_generative_ai/watsonx-env/lib/python3.12/site-packages (from ipython) (0.6.3)\n",
      "Requirement already satisfied: traitlets>=5.13.0 in /Users/ignacioarriola/Documents/Global/Formacion/formacion_generative_ai/watsonx-env/lib/python3.12/site-packages (from ipython) (5.14.3)\n",
      "Requirement already satisfied: pexpect>4.3 in /Users/ignacioarriola/Documents/Global/Formacion/formacion_generative_ai/watsonx-env/lib/python3.12/site-packages (from ipython) (4.9.0)\n",
      "Requirement already satisfied: parso<0.9.0,>=0.8.3 in /Users/ignacioarriola/Documents/Global/Formacion/formacion_generative_ai/watsonx-env/lib/python3.12/site-packages (from jedi>=0.16->ipython) (0.8.4)\n",
      "Requirement already satisfied: ptyprocess>=0.5 in /Users/ignacioarriola/Documents/Global/Formacion/formacion_generative_ai/watsonx-env/lib/python3.12/site-packages (from pexpect>4.3->ipython) (0.7.0)\n",
      "Requirement already satisfied: wcwidth in /Users/ignacioarriola/Documents/Global/Formacion/formacion_generative_ai/watsonx-env/lib/python3.12/site-packages (from prompt-toolkit<3.1.0,>=3.0.41->ipython) (0.2.13)\n",
      "Requirement already satisfied: executing>=1.2.0 in /Users/ignacioarriola/Documents/Global/Formacion/formacion_generative_ai/watsonx-env/lib/python3.12/site-packages (from stack-data->ipython) (2.0.1)\n",
      "Requirement already satisfied: asttokens>=2.1.0 in /Users/ignacioarriola/Documents/Global/Formacion/formacion_generative_ai/watsonx-env/lib/python3.12/site-packages (from stack-data->ipython) (2.4.1)\n",
      "Requirement already satisfied: pure-eval in /Users/ignacioarriola/Documents/Global/Formacion/formacion_generative_ai/watsonx-env/lib/python3.12/site-packages (from stack-data->ipython) (0.2.2)\n",
      "Requirement already satisfied: six>=1.12.0 in /Users/ignacioarriola/Documents/Global/Formacion/formacion_generative_ai/watsonx-env/lib/python3.12/site-packages (from asttokens>=2.1.0->stack-data->ipython) (1.16.0)\n",
      "Collecting ipykernel\n",
      "  Using cached ipykernel-6.29.4-py3-none-any.whl.metadata (6.3 kB)\n",
      "Collecting appnope (from ipykernel)\n",
      "  Using cached appnope-0.1.4-py2.py3-none-any.whl.metadata (908 bytes)\n",
      "Collecting comm>=0.1.1 (from ipykernel)\n",
      "  Using cached comm-0.2.2-py3-none-any.whl.metadata (3.7 kB)\n",
      "Collecting debugpy>=1.6.5 (from ipykernel)\n",
      "  Using cached debugpy-1.8.1-cp312-cp312-macosx_11_0_universal2.whl.metadata (1.1 kB)\n",
      "Requirement already satisfied: ipython>=7.23.1 in /Users/ignacioarriola/Documents/Global/Formacion/formacion_generative_ai/watsonx-env/lib/python3.12/site-packages (from ipykernel) (8.24.0)\n",
      "Collecting jupyter-client>=6.1.12 (from ipykernel)\n",
      "  Using cached jupyter_client-8.6.2-py3-none-any.whl.metadata (8.3 kB)\n",
      "Collecting jupyter-core!=5.0.*,>=4.12 (from ipykernel)\n",
      "  Using cached jupyter_core-5.7.2-py3-none-any.whl.metadata (3.4 kB)\n",
      "Requirement already satisfied: matplotlib-inline>=0.1 in /Users/ignacioarriola/Documents/Global/Formacion/formacion_generative_ai/watsonx-env/lib/python3.12/site-packages (from ipykernel) (0.1.7)\n",
      "Collecting nest-asyncio (from ipykernel)\n",
      "  Using cached nest_asyncio-1.6.0-py3-none-any.whl.metadata (2.8 kB)\n",
      "Requirement already satisfied: packaging in /Users/ignacioarriola/Documents/Global/Formacion/formacion_generative_ai/watsonx-env/lib/python3.12/site-packages (from ipykernel) (23.2)\n",
      "Collecting psutil (from ipykernel)\n",
      "  Using cached psutil-5.9.8-cp38-abi3-macosx_11_0_arm64.whl.metadata (21 kB)\n",
      "Collecting pyzmq>=24 (from ipykernel)\n",
      "  Using cached pyzmq-26.0.3-cp312-cp312-macosx_10_15_universal2.whl.metadata (6.1 kB)\n",
      "Requirement already satisfied: tornado>=6.1 in /Users/ignacioarriola/Documents/Global/Formacion/formacion_generative_ai/watsonx-env/lib/python3.12/site-packages (from ipykernel) (6.4.1)\n",
      "Requirement already satisfied: traitlets>=5.4.0 in /Users/ignacioarriola/Documents/Global/Formacion/formacion_generative_ai/watsonx-env/lib/python3.12/site-packages (from ipykernel) (5.14.3)\n",
      "Requirement already satisfied: decorator in /Users/ignacioarriola/Documents/Global/Formacion/formacion_generative_ai/watsonx-env/lib/python3.12/site-packages (from ipython>=7.23.1->ipykernel) (5.1.1)\n",
      "Requirement already satisfied: jedi>=0.16 in /Users/ignacioarriola/Documents/Global/Formacion/formacion_generative_ai/watsonx-env/lib/python3.12/site-packages (from ipython>=7.23.1->ipykernel) (0.19.1)\n",
      "Requirement already satisfied: prompt-toolkit<3.1.0,>=3.0.41 in /Users/ignacioarriola/Documents/Global/Formacion/formacion_generative_ai/watsonx-env/lib/python3.12/site-packages (from ipython>=7.23.1->ipykernel) (3.0.46)\n",
      "Requirement already satisfied: pygments>=2.4.0 in /Users/ignacioarriola/Documents/Global/Formacion/formacion_generative_ai/watsonx-env/lib/python3.12/site-packages (from ipython>=7.23.1->ipykernel) (2.18.0)\n",
      "Requirement already satisfied: stack-data in /Users/ignacioarriola/Documents/Global/Formacion/formacion_generative_ai/watsonx-env/lib/python3.12/site-packages (from ipython>=7.23.1->ipykernel) (0.6.3)\n",
      "Requirement already satisfied: pexpect>4.3 in /Users/ignacioarriola/Documents/Global/Formacion/formacion_generative_ai/watsonx-env/lib/python3.12/site-packages (from ipython>=7.23.1->ipykernel) (4.9.0)\n",
      "Requirement already satisfied: python-dateutil>=2.8.2 in /Users/ignacioarriola/Documents/Global/Formacion/formacion_generative_ai/watsonx-env/lib/python3.12/site-packages (from jupyter-client>=6.1.12->ipykernel) (2.9.0.post0)\n",
      "Collecting platformdirs>=2.5 (from jupyter-core!=5.0.*,>=4.12->ipykernel)\n",
      "  Using cached platformdirs-4.2.2-py3-none-any.whl.metadata (11 kB)\n",
      "Requirement already satisfied: parso<0.9.0,>=0.8.3 in /Users/ignacioarriola/Documents/Global/Formacion/formacion_generative_ai/watsonx-env/lib/python3.12/site-packages (from jedi>=0.16->ipython>=7.23.1->ipykernel) (0.8.4)\n",
      "Requirement already satisfied: ptyprocess>=0.5 in /Users/ignacioarriola/Documents/Global/Formacion/formacion_generative_ai/watsonx-env/lib/python3.12/site-packages (from pexpect>4.3->ipython>=7.23.1->ipykernel) (0.7.0)\n",
      "Requirement already satisfied: wcwidth in /Users/ignacioarriola/Documents/Global/Formacion/formacion_generative_ai/watsonx-env/lib/python3.12/site-packages (from prompt-toolkit<3.1.0,>=3.0.41->ipython>=7.23.1->ipykernel) (0.2.13)\n",
      "Requirement already satisfied: six>=1.5 in /Users/ignacioarriola/Documents/Global/Formacion/formacion_generative_ai/watsonx-env/lib/python3.12/site-packages (from python-dateutil>=2.8.2->jupyter-client>=6.1.12->ipykernel) (1.16.0)\n",
      "Requirement already satisfied: executing>=1.2.0 in /Users/ignacioarriola/Documents/Global/Formacion/formacion_generative_ai/watsonx-env/lib/python3.12/site-packages (from stack-data->ipython>=7.23.1->ipykernel) (2.0.1)\n",
      "Requirement already satisfied: asttokens>=2.1.0 in /Users/ignacioarriola/Documents/Global/Formacion/formacion_generative_ai/watsonx-env/lib/python3.12/site-packages (from stack-data->ipython>=7.23.1->ipykernel) (2.4.1)\n",
      "Requirement already satisfied: pure-eval in /Users/ignacioarriola/Documents/Global/Formacion/formacion_generative_ai/watsonx-env/lib/python3.12/site-packages (from stack-data->ipython>=7.23.1->ipykernel) (0.2.2)\n",
      "Using cached ipykernel-6.29.4-py3-none-any.whl (117 kB)\n",
      "Using cached comm-0.2.2-py3-none-any.whl (7.2 kB)\n",
      "Using cached debugpy-1.8.1-cp312-cp312-macosx_11_0_universal2.whl (1.4 MB)\n",
      "Using cached jupyter_client-8.6.2-py3-none-any.whl (105 kB)\n",
      "Using cached jupyter_core-5.7.2-py3-none-any.whl (28 kB)\n",
      "Using cached pyzmq-26.0.3-cp312-cp312-macosx_10_15_universal2.whl (1.4 MB)\n",
      "Using cached appnope-0.1.4-py2.py3-none-any.whl (4.3 kB)\n",
      "Using cached nest_asyncio-1.6.0-py3-none-any.whl (5.2 kB)\n",
      "Using cached psutil-5.9.8-cp38-abi3-macosx_11_0_arm64.whl (249 kB)\n",
      "Using cached platformdirs-4.2.2-py3-none-any.whl (18 kB)\n",
      "Installing collected packages: pyzmq, psutil, platformdirs, nest-asyncio, debugpy, comm, appnope, jupyter-core, jupyter-client, ipykernel\n",
      "Successfully installed appnope-0.1.4 comm-0.2.2 debugpy-1.8.1 ipykernel-6.29.4 jupyter-client-8.6.2 jupyter-core-5.7.2 nest-asyncio-1.6.0 platformdirs-4.2.2 psutil-5.9.8 pyzmq-26.0.3\n",
      "Collecting gtts\n",
      "  Downloading gTTS-2.5.1-py3-none-any.whl.metadata (4.1 kB)\n",
      "Requirement already satisfied: requests<3,>=2.27 in /Users/ignacioarriola/Documents/Global/Formacion/formacion_generative_ai/watsonx-env/lib/python3.12/site-packages (from gtts) (2.32.3)\n",
      "Requirement already satisfied: click<8.2,>=7.1 in /Users/ignacioarriola/Documents/Global/Formacion/formacion_generative_ai/watsonx-env/lib/python3.12/site-packages (from gtts) (8.1.7)\n",
      "Requirement already satisfied: charset-normalizer<4,>=2 in /Users/ignacioarriola/Documents/Global/Formacion/formacion_generative_ai/watsonx-env/lib/python3.12/site-packages (from requests<3,>=2.27->gtts) (3.3.2)\n",
      "Requirement already satisfied: idna<4,>=2.5 in /Users/ignacioarriola/Documents/Global/Formacion/formacion_generative_ai/watsonx-env/lib/python3.12/site-packages (from requests<3,>=2.27->gtts) (3.7)\n",
      "Requirement already satisfied: urllib3<3,>=1.21.1 in /Users/ignacioarriola/Documents/Global/Formacion/formacion_generative_ai/watsonx-env/lib/python3.12/site-packages (from requests<3,>=2.27->gtts) (2.1.0)\n",
      "Requirement already satisfied: certifi>=2017.4.17 in /Users/ignacioarriola/Documents/Global/Formacion/formacion_generative_ai/watsonx-env/lib/python3.12/site-packages (from requests<3,>=2.27->gtts) (2024.6.2)\n",
      "Downloading gTTS-2.5.1-py3-none-any.whl (29 kB)\n",
      "Installing collected packages: gtts\n",
      "Successfully installed gtts-2.5.1\n",
      "Collecting pydub\n",
      "  Downloading pydub-0.25.1-py2.py3-none-any.whl.metadata (1.4 kB)\n",
      "Downloading pydub-0.25.1-py2.py3-none-any.whl (32 kB)\n",
      "Installing collected packages: pydub\n",
      "Successfully installed pydub-0.25.1\n",
      "Requirement already satisfied: langchain-community in /Users/ignacioarriola/Documents/Global/Formacion/formacion_generative_ai/watsonx-env/lib/python3.12/site-packages (0.0.38)\n",
      "Requirement already satisfied: PyYAML>=5.3 in /Users/ignacioarriola/Documents/Global/Formacion/formacion_generative_ai/watsonx-env/lib/python3.12/site-packages (from langchain-community) (6.0.1)\n",
      "Requirement already satisfied: SQLAlchemy<3,>=1.4 in /Users/ignacioarriola/Documents/Global/Formacion/formacion_generative_ai/watsonx-env/lib/python3.12/site-packages (from langchain-community) (2.0.30)\n",
      "Requirement already satisfied: aiohttp<4.0.0,>=3.8.3 in /Users/ignacioarriola/Documents/Global/Formacion/formacion_generative_ai/watsonx-env/lib/python3.12/site-packages (from langchain-community) (3.9.5)\n",
      "Requirement already satisfied: dataclasses-json<0.7,>=0.5.7 in /Users/ignacioarriola/Documents/Global/Formacion/formacion_generative_ai/watsonx-env/lib/python3.12/site-packages (from langchain-community) (0.6.6)\n",
      "Requirement already satisfied: langchain-core<0.2.0,>=0.1.52 in /Users/ignacioarriola/Documents/Global/Formacion/formacion_generative_ai/watsonx-env/lib/python3.12/site-packages (from langchain-community) (0.1.52)\n",
      "Requirement already satisfied: langsmith<0.2.0,>=0.1.0 in /Users/ignacioarriola/Documents/Global/Formacion/formacion_generative_ai/watsonx-env/lib/python3.12/site-packages (from langchain-community) (0.1.75)\n",
      "Requirement already satisfied: numpy<2,>=1 in /Users/ignacioarriola/Documents/Global/Formacion/formacion_generative_ai/watsonx-env/lib/python3.12/site-packages (from langchain-community) (1.26.4)\n",
      "Requirement already satisfied: requests<3,>=2 in /Users/ignacioarriola/Documents/Global/Formacion/formacion_generative_ai/watsonx-env/lib/python3.12/site-packages (from langchain-community) (2.32.3)\n",
      "Requirement already satisfied: tenacity<9.0.0,>=8.1.0 in /Users/ignacioarriola/Documents/Global/Formacion/formacion_generative_ai/watsonx-env/lib/python3.12/site-packages (from langchain-community) (8.3.0)\n",
      "Requirement already satisfied: aiosignal>=1.1.2 in /Users/ignacioarriola/Documents/Global/Formacion/formacion_generative_ai/watsonx-env/lib/python3.12/site-packages (from aiohttp<4.0.0,>=3.8.3->langchain-community) (1.3.1)\n",
      "Requirement already satisfied: attrs>=17.3.0 in /Users/ignacioarriola/Documents/Global/Formacion/formacion_generative_ai/watsonx-env/lib/python3.12/site-packages (from aiohttp<4.0.0,>=3.8.3->langchain-community) (23.2.0)\n",
      "Requirement already satisfied: frozenlist>=1.1.1 in /Users/ignacioarriola/Documents/Global/Formacion/formacion_generative_ai/watsonx-env/lib/python3.12/site-packages (from aiohttp<4.0.0,>=3.8.3->langchain-community) (1.4.1)\n",
      "Requirement already satisfied: multidict<7.0,>=4.5 in /Users/ignacioarriola/Documents/Global/Formacion/formacion_generative_ai/watsonx-env/lib/python3.12/site-packages (from aiohttp<4.0.0,>=3.8.3->langchain-community) (6.0.5)\n",
      "Requirement already satisfied: yarl<2.0,>=1.0 in /Users/ignacioarriola/Documents/Global/Formacion/formacion_generative_ai/watsonx-env/lib/python3.12/site-packages (from aiohttp<4.0.0,>=3.8.3->langchain-community) (1.9.4)\n",
      "Requirement already satisfied: marshmallow<4.0.0,>=3.18.0 in /Users/ignacioarriola/Documents/Global/Formacion/formacion_generative_ai/watsonx-env/lib/python3.12/site-packages (from dataclasses-json<0.7,>=0.5.7->langchain-community) (3.21.3)\n",
      "Requirement already satisfied: typing-inspect<1,>=0.4.0 in /Users/ignacioarriola/Documents/Global/Formacion/formacion_generative_ai/watsonx-env/lib/python3.12/site-packages (from dataclasses-json<0.7,>=0.5.7->langchain-community) (0.9.0)\n",
      "Requirement already satisfied: jsonpatch<2.0,>=1.33 in /Users/ignacioarriola/Documents/Global/Formacion/formacion_generative_ai/watsonx-env/lib/python3.12/site-packages (from langchain-core<0.2.0,>=0.1.52->langchain-community) (1.33)\n",
      "Requirement already satisfied: packaging<24.0,>=23.2 in /Users/ignacioarriola/Documents/Global/Formacion/formacion_generative_ai/watsonx-env/lib/python3.12/site-packages (from langchain-core<0.2.0,>=0.1.52->langchain-community) (23.2)\n",
      "Requirement already satisfied: pydantic<3,>=1 in /Users/ignacioarriola/Documents/Global/Formacion/formacion_generative_ai/watsonx-env/lib/python3.12/site-packages (from langchain-core<0.2.0,>=0.1.52->langchain-community) (1.10.0)\n",
      "Requirement already satisfied: orjson<4.0.0,>=3.9.14 in /Users/ignacioarriola/Documents/Global/Formacion/formacion_generative_ai/watsonx-env/lib/python3.12/site-packages (from langsmith<0.2.0,>=0.1.0->langchain-community) (3.10.3)\n",
      "Requirement already satisfied: charset-normalizer<4,>=2 in /Users/ignacioarriola/Documents/Global/Formacion/formacion_generative_ai/watsonx-env/lib/python3.12/site-packages (from requests<3,>=2->langchain-community) (3.3.2)\n",
      "Requirement already satisfied: idna<4,>=2.5 in /Users/ignacioarriola/Documents/Global/Formacion/formacion_generative_ai/watsonx-env/lib/python3.12/site-packages (from requests<3,>=2->langchain-community) (3.7)\n",
      "Requirement already satisfied: urllib3<3,>=1.21.1 in /Users/ignacioarriola/Documents/Global/Formacion/formacion_generative_ai/watsonx-env/lib/python3.12/site-packages (from requests<3,>=2->langchain-community) (2.1.0)\n",
      "Requirement already satisfied: certifi>=2017.4.17 in /Users/ignacioarriola/Documents/Global/Formacion/formacion_generative_ai/watsonx-env/lib/python3.12/site-packages (from requests<3,>=2->langchain-community) (2024.6.2)\n",
      "Requirement already satisfied: typing-extensions>=4.6.0 in /Users/ignacioarriola/Documents/Global/Formacion/formacion_generative_ai/watsonx-env/lib/python3.12/site-packages (from SQLAlchemy<3,>=1.4->langchain-community) (4.12.1)\n",
      "Requirement already satisfied: jsonpointer>=1.9 in /Users/ignacioarriola/Documents/Global/Formacion/formacion_generative_ai/watsonx-env/lib/python3.12/site-packages (from jsonpatch<2.0,>=1.33->langchain-core<0.2.0,>=0.1.52->langchain-community) (2.4)\n",
      "Requirement already satisfied: mypy-extensions>=0.3.0 in /Users/ignacioarriola/Documents/Global/Formacion/formacion_generative_ai/watsonx-env/lib/python3.12/site-packages (from typing-inspect<1,>=0.4.0->dataclasses-json<0.7,>=0.5.7->langchain-community) (1.0.0)\n"
     ]
    }
   ],
   "source": [
    "!pip install speechrecognition\n",
    "!pip install ibm_watson_machine_learning\n",
    "!pip install langchain\n",
    "!pip install load_dotenv\n",
    "!pip install ipython\n",
    "!pip install ipykernel\n",
    "!pip install gtts\n",
    "!pip install pydub\n",
    "!pip install langchain-community\n",
    "!pip install pyaudio\n",
    "!pip install wave"
   ]
  },
  {
   "cell_type": "markdown",
   "metadata": {},
   "source": [
    "## Carga de Librerias"
   ]
  },
  {
   "cell_type": "code",
   "execution_count": 1,
   "metadata": {},
   "outputs": [
    {
     "name": "stderr",
     "output_type": "stream",
     "text": [
      "/Users/ignacioarriola/Documents/Global/Formacion/formacion_generative_ai/watsonx-env/lib/python3.12/site-packages/ibm_watson_machine_learning/foundation_models/extensions/langchain/llm.py:60: WatsonxLLMDeprecationWarning: ibm_watson_machine_learning.foundation_models.extensions.langchain.WatsonxLLM is deprecated and will not be supported in the future. Please import from langchain-ibm instead.\n",
      "To install langchain-ibm run `pip install -U langchain-ibm`.\n",
      "  _raise_watsonxllm_deprecation_warning()\n"
     ]
    }
   ],
   "source": [
    "import speech_recognition as sr\n",
    "from gtts import gTTS\n",
    "from pydub import AudioSegment\n",
    "from pydub.playback import play\n",
    "\n",
    "import pyaudio\n",
    "from ibm_watson_machine_learning.foundation_models.utils.enums import ModelTypes\n",
    "from ibm_watson_machine_learning.foundation_models import Model\n",
    "from ibm_watson_machine_learning.metanames import GenTextParamsMetaNames as GenParams\n",
    "from ibm_watson_machine_learning.foundation_models.utils.enums import DecodingMethods\n",
    "from ibm_watson_machine_learning.foundation_models.extensions.langchain import WatsonxLLM\n"
   ]
  },
  {
   "cell_type": "markdown",
   "metadata": {},
   "source": [
    "## Definición de variables de entorno"
   ]
  },
  {
   "cell_type": "code",
   "execution_count": 2,
   "metadata": {},
   "outputs": [],
   "source": [
    "import getpass\n",
    "import os\n",
    "from dotenv import load_dotenv\n",
    "load_dotenv('../.env')\n",
    "\n",
    "try:\n",
    "    REGION = os.environ[\"RUNTIME_ENV_REGION\"]\n",
    "except KeyError:\n",
    "    # Set your region here if you are not running this notebook in the watsonx.ai Jupyter environment\n",
    "    # us-south, eu-de, etc.\n",
    "    REGION = \"us-south\"\n",
    "\n",
    "try:\n",
    "    api_key = os.environ[\"api_key\"]\n",
    "except KeyError:\n",
    "    # Enter api key here if not running this notebook in the watsonx.ai Jupyter environment\n",
    "    api_key = getpass.getpass(\"Please enter your WML api key (hit enter): \")\n",
    "\n",
    "credentials = {\n",
    "    \"url\": \"https://\" + REGION + \".ml.cloud.ibm.com\",\n",
    "    \"apikey\": api_key\n",
    "}\n"
   ]
  },
  {
   "cell_type": "code",
   "execution_count": 3,
   "metadata": {},
   "outputs": [],
   "source": [
    "import os\n",
    "\n",
    "try:\n",
    "    project_id = os.environ[\"project_id\"]\n",
    "except KeyError:\n",
    "    # Enter project ID here if not running this notebook in the watsonx.ai Jupyter environment\n",
    "    project_id = getpass.getpass(\"Please enter your WML project_id (hit enter): \")\n"
   ]
  },
  {
   "cell_type": "markdown",
   "metadata": {},
   "source": [
    "Procesamos el audio y con el modelo de reconocimiento de voz de google transformamos el audio a texto."
   ]
  },
  {
   "cell_type": "code",
   "execution_count": 4,
   "metadata": {},
   "outputs": [],
   "source": [
    "def convert_audio_to_wav(ogg_file, wav_file, format='ogg'):\n",
    "    audio = AudioSegment.from_file(ogg_file, format=format)\n",
    "    audio.export(wav_file, format=\"wav\")\n",
    "\n",
    "def audio_to_text(audio_file):\n",
    "    recognizer = sr.Recognizer()\n",
    "    with sr.AudioFile(audio_file) as source:\n",
    "        audio_data = recognizer.record(source)\n",
    "        try:\n",
    "            text = recognizer.recognize_google(audio_data, language='es-ES')\n",
    "            return text\n",
    "        except sr.UnknownValueError:\n",
    "            return \"No se pudo entender el audio\"\n",
    "        except sr.RequestError as e:\n",
    "            return f\"Error de solicitud; {e}\"\n"
   ]
  },
  {
   "cell_type": "markdown",
   "metadata": {},
   "source": [
    "Definimos el LLM para generar una respuesta al audio, y lo transformamos a formato audio con la libreria de transformación de texto a speech de google."
   ]
  },
  {
   "cell_type": "code",
   "execution_count": 5,
   "metadata": {},
   "outputs": [
    {
     "name": "stderr",
     "output_type": "stream",
     "text": [
      "/Users/ignacioarriola/Documents/Global/Formacion/formacion_generative_ai/watsonx-env/lib/python3.12/site-packages/ibm_watson_machine_learning/foundation_models/utils/utils.py:290: LifecycleWarning: Model 'ibm-mistralai/mixtral-8x7b-instruct-v01-q' is in deprecated and constricted state from 2024-04-19 until 2024-06-20. IDs of alternative models: ibm-mistralai/mixtral-8x7b-instruct-v01. Further details: https://dataplatform.cloud.ibm.com/docs/content/wsj/analyze-data/fm-model-lifecycle.html?context=wx&audience=wdp\n",
      "  warnings.warn(default_warning_template.format(\n"
     ]
    }
   ],
   "source": [
    "def get_model(model_id, credentials, project_id):\n",
    "    model_id_1 = model_id\n",
    "    parameters = {\n",
    "    GenParams.DECODING_METHOD: DecodingMethods.SAMPLE,\n",
    "    GenParams.MAX_NEW_TOKENS: 50,\n",
    "    GenParams.MIN_NEW_TOKENS: 1,\n",
    "    GenParams.TEMPERATURE: 0.5,\n",
    "    GenParams.TOP_K: 50,\n",
    "    GenParams.TOP_P: 1,\n",
    "    GenParams.STOP_SEQUENCES: [\".\"]\n",
    "}\n",
    "    model = Model(\n",
    "        model_id=model_id_1,  \n",
    "        params=parameters, \n",
    "        credentials=credentials,\n",
    "        project_id=project_id)\n",
    "    \n",
    "    llm = WatsonxLLM(model=model)\n",
    "    return llm\n",
    "\n",
    "def generate_response(model, prompt):\n",
    "    response = model.invoke(prompt)\n",
    "    return response\n",
    "\n",
    "def text_to_audio(text, output_file):\n",
    "    tts = gTTS(text=text, lang='es')\n",
    "    tts.save(output_file)\n",
    "\n",
    "\n",
    "llm = get_model(ModelTypes.MIXTRAL_8X7B_INSTRUCT_V01_Q, credentials, project_id)"
   ]
  },
  {
   "cell_type": "markdown",
   "metadata": {},
   "source": [
    "Combinamos todas las funciones previas y mostramos el audio generado."
   ]
  },
  {
   "cell_type": "code",
   "execution_count": 6,
   "metadata": {},
   "outputs": [],
   "source": [
    "def process_audio(origin_file, wav_file, llm, response_audio_file):\n",
    "    convert_audio_to_wav(origin_file, wav_file, format='ogg')\n",
    "    text = audio_to_text(wav_file)\n",
    "    print(f\"Texto reconocido: {text}\")\n",
    "    \n",
    "    response = generate_response(llm, text)\n",
    "    print(f\"Respuesta generada: {response}\")\n",
    "    \n",
    "    text_to_audio(response, response_audio_file)\n",
    "    response_audio = AudioSegment.from_mp3(response_audio_file)\n",
    "    \n",
    "    play(response_audio)"
   ]
  },
  {
   "cell_type": "code",
   "execution_count": 16,
   "metadata": {},
   "outputs": [
    {
     "name": "stdout",
     "output_type": "stream",
     "text": [
      "Texto reconocido: qué es la Inteligencia Artificial generativa\n",
      "Respuesta generada: ?\n",
      "\n",
      "La Inteligencia Artificial generativa (IA generativa) es una rama de la Inteligencia Artificial que se enfoca en la creación de contenido nuevo y original, en lugar de simplemente\n"
     ]
    },
    {
     "name": "stderr",
     "output_type": "stream",
     "text": [
      "Input #0, wav, from '/var/folders/cb/jq2ptwjx1514d2n2fx3sd55m0000gn/T/tmpbw_zgof4.wav':\n",
      "  Duration: 00:00:14.76, bitrate: 384 kb/s\n",
      "  Stream #0:0: Audio: pcm_s16le ([1][0][0][0] / 0x0001), 24000 Hz, 1 channels, s16, 384 kb/s\n",
      "  14.55 M-A: -0.000 fd=   0 aq=    0KB vq=    0KB sq=    0B \r"
     ]
    },
    {
     "name": "stdout",
     "output_type": "stream",
     "text": [
      "\n"
     ]
    },
    {
     "name": "stderr",
     "output_type": "stream",
     "text": [
      "  14.62 M-A:  0.000 fd=   0 aq=    0KB vq=    0KB sq=    0B \r"
     ]
    }
   ],
   "source": [
    "# Nombre del archivo OGG de entrada y el archivo MP3 de salida\n",
    "origin_file = \"data/audio.ogg\"\n",
    "wav_file = \"data/audio.wav\"\n",
    "response_audio_file = \"data/response.mp3\"\n",
    "\n",
    "# Procesar el audio\n",
    "process_audio(origin_file=origin_file, wav_file=wav_file, llm=llm, response_audio_file=response_audio_file)"
   ]
  },
  {
   "cell_type": "markdown",
   "metadata": {},
   "source": [
    "En la siguiente celda definiremos una función, prácticamente igual que process_audio pero sin convertir de off a wav, que utilizaremos para preguntar al asistente desde el micrófono directamente."
   ]
  },
  {
   "cell_type": "code",
   "execution_count": 12,
   "metadata": {},
   "outputs": [],
   "source": [
    "def answer_question( wav_file, llm, response_audio_file):\n",
    "    text = audio_to_text(wav_file)\n",
    "    print(f\"Texto reconocido: {text}\")\n",
    "    \n",
    "    response = generate_response(llm, text)\n",
    "    print(f\"Respuesta generada: {response}\")\n",
    "    \n",
    "    text_to_audio(response, response_audio_file)\n",
    "    response_audio = AudioSegment.from_mp3(response_audio_file)\n",
    "    \n",
    "    play(response_audio)"
   ]
  },
  {
   "cell_type": "markdown",
   "metadata": {},
   "source": [
    "## Asistente con microfono\n",
    "\n",
    "En la siguiente celda incorporaremos las anteriores funcionalidades a la captura del audio por micrófono, para interactuar con el asistente por voz."
   ]
  },
  {
   "cell_type": "code",
   "execution_count": 13,
   "metadata": {},
   "outputs": [
    {
     "name": "stdout",
     "output_type": "stream",
     "text": [
      "recording stopped\n",
      "Texto reconocido: qué es la inteligencia artificial\n",
      "Respuesta generada:  y cómo funciona\n",
      "\n",
      "La inteligencia artificial (IA) es una rama de la ciencia de la computación que trata de desarrollar sistemas informáticos que puedan realizar tareas que requieren\n"
     ]
    }
   ],
   "source": [
    "import pyaudio\n",
    "import wave\n",
    "\n",
    "CHUNK = 1024  # Tamaño de cada fragmento de audio\n",
    "FORMAT = pyaudio.paInt16  # Formato de audio (16 bits por muestra)\n",
    "CHANNELS = 1  # Número de canales (mono)\n",
    "RATE = 44100  # Frecuencia de muestreo (44.1 kHz)\n",
    "\n",
    "start = AudioSegment.from_wav(\"./data/start.wav\")  # Cargar el archivo de audio \"start.wav\"\n",
    "\n",
    "# Reproducir el archivo de inicio de mensaje\n",
    "play(start)\n",
    "\n",
    "p = pyaudio.PyAudio()  # Inicializar PyAudio\n",
    "\n",
    "# Abrir el flujo de audio para grabación\n",
    "stream = p.open(format=FORMAT,\n",
    "                channels=CHANNELS,\n",
    "                rate=RATE,\n",
    "                input=True,\n",
    "                frames_per_buffer=CHUNK)\n",
    "\n",
    "frames = []  # Lista para almacenar los datos de audio grabados\n",
    "seconds = 3  # Duración de la grabación en segundos\n",
    "\n",
    "# Grabar el audio en fragmentos y almacenarlo en la lista \"frames\"\n",
    "for i in range(0, int(RATE / CHUNK * seconds)):\n",
    "    data = stream.read(CHUNK)\n",
    "    frames.append(data)\n",
    "\n",
    "# Detener y cerrar el flujo de audio\n",
    "stream.stop_stream()\n",
    "stream.close()\n",
    "p.terminate\n",
    "\n",
    "stop = AudioSegment.from_wav(\"./data/stop.wav\")  # Cargar el archivo de audio \"stop.wav\"\n",
    "play(stop)  # Reproducir el archivo fin de mensaje\n",
    "print(\"recording stopped\")  # Imprimir mensaje indicando que la grabación ha terminado\n",
    "\n",
    "# Guardar los datos de audio grabados en un archivo WAV\n",
    "wf = wave.open(\"./data/question_temp.wav\", 'wb')\n",
    "wf.setnchannels(CHANNELS)\n",
    "wf.setsampwidth(p.get_sample_size(FORMAT))\n",
    "wf.setframerate(RATE)\n",
    "wf.writeframes(b''.join(frames))\n",
    "wf.close()\n",
    "\n",
    "response_audio_file = \"data/response.mp3\"  # Ruta del archivo de audio de respuesta\n",
    "\n",
    "# Definir una función para procesar el audio\n",
    "def process_audio2(wav_file, llm, response_audio_file):\n",
    "    text = audio_to_text(wav_file)  # Convertir el audio a texto\n",
    "    print(f\"Texto reconocido: {text}\")  # Imprimir el texto reconocido\n",
    "    \n",
    "    response = generate_response(llm, text)  # Generar una respuesta usando un modelo de lenguaje (LLM)\n",
    "    print(f\"Respuesta generada: {response}\")  # Imprimir la respuesta generada\n",
    "    \n",
    "    text_to_audio(response, response_audio_file)  # Convertir la respuesta de texto a audio\n",
    "    response_audio = AudioSegment.from_mp3(response_audio_file)  # Cargar el archivo de audio de respuesta\n",
    "    \n",
    "    play(response_audio)  # Reproducir el archivo de audio de respuesta\n",
    "\n",
    "# Llamar a la función para procesar el audio grabado y generar una respuesta\n",
    "answer_question(wav_file=\"./data/question_temp.wav\", llm=llm, response_audio_file=response_audio_file)\n",
    "\n",
    "os.remove(\"./data/question_temp.wav\") # Eliminar el WAV de la pregunta\n"
   ]
  },
  {
   "cell_type": "code",
   "execution_count": null,
   "metadata": {},
   "outputs": [],
   "source": []
  }
 ],
 "metadata": {
  "kernelspec": {
   "display_name": "speech_2_speech",
   "language": "python",
   "name": "python3"
  },
  "language_info": {
   "codemirror_mode": {
    "name": "ipython",
    "version": 3
   },
   "file_extension": ".py",
   "mimetype": "text/x-python",
   "name": "python",
   "nbconvert_exporter": "python",
   "pygments_lexer": "ipython3",
   "version": "3.12.3"
  }
 },
 "nbformat": 4,
 "nbformat_minor": 2
}

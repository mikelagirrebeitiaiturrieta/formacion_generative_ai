{
 "cells": [
  {
   "attachments": {},
   "cell_type": "markdown",
   "metadata": {},
   "source": [
    "<a id=\"setup\"></a>\n",
    "##  Set up the environment\n",
    "\n",
    "Before you use the sample code in this notebook, you must perform the following setup tasks:\n",
    "\n",
    "-  Create a <a href=\"https://console.ng.bluemix.net/catalog/services/ibm-watson-machine-learning/\" target=\"_blank\" rel=\"noopener no referrer\">Watson Machine Learning (WML) Service</a> instance (a free plan is offered and information about how to create the instance can be found <a href=\"https://dataplatform.cloud.ibm.com/docs/content/wsj/analyze-data/ml-service-instance.html?context=analytics\" target=\"_blank\" rel=\"noopener no referrer\">here</a>).\n"
   ]
  },
  {
   "attachments": {},
   "cell_type": "markdown",
   "metadata": {},
   "source": [
    "### Install and import dependecies"
   ]
  },
  {
   "cell_type": "code",
   "execution_count": 2,
   "metadata": {},
   "outputs": [
    {
     "data": {
      "text/plain": [
       "True"
      ]
     },
     "execution_count": 2,
     "metadata": {},
     "output_type": "execute_result"
    }
   ],
   "source": [
    "import os, getpass\n",
    "import pandas as pd\n",
    "import humanize\n",
    "import random\n",
    "from typing import Optional, Any, Iterable, List\n",
    "from dotenv import load_dotenv\n",
    "load_dotenv('../.env')"
   ]
  },
  {
   "attachments": {},
   "cell_type": "markdown",
   "metadata": {},
   "source": [
    "### watsonx API connection\n",
    "This cell defines the credentials required to work with watsonx API for Foundation\n",
    "Model inferencing.\n",
    "\n",
    "**Action:** Provide the IBM Cloud user API key. For details, see <a href=\"https://cloud.ibm.com/docs/account?topic=account-userapikey&interface=ui\" target=\"_blank\" rel=\"noopener no referrer\">documentation</a>."
   ]
  },
  {
   "cell_type": "code",
   "execution_count": 3,
   "metadata": {
    "scrolled": true
   },
   "outputs": [],
   "source": [
    "credentials = {\n",
    "    \"url\": \"https://us-south.ml.cloud.ibm.com\",\n",
    "    \"apikey\": os.getenv('api_key', None)\n",
    "}"
   ]
  },
  {
   "attachments": {},
   "cell_type": "markdown",
   "metadata": {},
   "source": [
    "### Defining the project id\n",
    "The API requires project id that provides the context for the call. We will obtain the id from the project in which this notebook runs. Otherwise, please provide the project id.\n",
    "\n",
    "**Hint**: You can find the `project_id` as follows. Open the prompt lab in watsonx.ai. At the very top of the UI, there will be `Projects / <project name> /`. Click on the `<project name>` link. Then get the `project_id` from Project's Manage tab (Project -> Manage -> General -> Details).\n"
   ]
  },
  {
   "cell_type": "code",
   "execution_count": 4,
   "metadata": {},
   "outputs": [],
   "source": [
    "try:\n",
    "    project_id = os.environ[\"PROJECT_ID\"]\n",
    "except KeyError:\n",
    "    project_id = input(\"Please enter your project_id (hit enter): \")"
   ]
  },
  {
   "attachments": {},
   "cell_type": "markdown",
   "metadata": {},
   "source": [
    "<a id=\"data\"></a>\n",
    "## Data (test) loading"
   ]
  },
  {
   "attachments": {},
   "cell_type": "markdown",
   "metadata": {},
   "source": [
    "Download the test dataset. This dataset is used to calculate the metrics score for selected model, defined prompts and parameters."
   ]
  },
  {
   "cell_type": "code",
   "execution_count": 5,
   "metadata": {},
   "outputs": [],
   "source": [
    "filename_test = './questions_test.csv'\n",
    "filename_train =  './questions_train.csv'\n",
    "\n",
    "test_data = pd.read_csv(filename_test)\n",
    "train_data = pd.read_csv(filename_train)"
   ]
  },
  {
   "attachments": {},
   "cell_type": "markdown",
   "metadata": {},
   "source": [
    "Inspect data sample"
   ]
  },
  {
   "cell_type": "code",
   "execution_count": 6,
   "metadata": {},
   "outputs": [
    {
     "data": {
      "text/html": [
       "<div>\n",
       "<style scoped>\n",
       "    .dataframe tbody tr th:only-of-type {\n",
       "        vertical-align: middle;\n",
       "    }\n",
       "\n",
       "    .dataframe tbody tr th {\n",
       "        vertical-align: top;\n",
       "    }\n",
       "\n",
       "    .dataframe thead th {\n",
       "        text-align: right;\n",
       "    }\n",
       "</style>\n",
       "<table border=\"1\" class=\"dataframe\">\n",
       "  <thead>\n",
       "    <tr style=\"text-align: right;\">\n",
       "      <th></th>\n",
       "      <th>qid</th>\n",
       "      <th>question</th>\n",
       "      <th>answers</th>\n",
       "    </tr>\n",
       "  </thead>\n",
       "  <tbody>\n",
       "    <tr>\n",
       "      <th>0</th>\n",
       "      <td>1961</td>\n",
       "      <td>where does diffusion occur in the excretory sy...</td>\n",
       "      <td>diffusion</td>\n",
       "    </tr>\n",
       "    <tr>\n",
       "      <th>1</th>\n",
       "      <td>7528</td>\n",
       "      <td>when did the us join world war one</td>\n",
       "      <td>April 6 , 1917</td>\n",
       "    </tr>\n",
       "    <tr>\n",
       "      <th>2</th>\n",
       "      <td>8685</td>\n",
       "      <td>who played wilma in the movie the flintstones</td>\n",
       "      <td>Elizabeth Perkins</td>\n",
       "    </tr>\n",
       "    <tr>\n",
       "      <th>3</th>\n",
       "      <td>6716</td>\n",
       "      <td>when was the office of the vice president created</td>\n",
       "      <td>1787</td>\n",
       "    </tr>\n",
       "    <tr>\n",
       "      <th>4</th>\n",
       "      <td>2916</td>\n",
       "      <td>where does carbon fixation occur in c4 plants</td>\n",
       "      <td>in the mesophyll cells</td>\n",
       "    </tr>\n",
       "  </tbody>\n",
       "</table>\n",
       "</div>"
      ],
      "text/plain": [
       "    qid                                           question  \\\n",
       "0  1961  where does diffusion occur in the excretory sy...   \n",
       "1  7528                 when did the us join world war one   \n",
       "2  8685      who played wilma in the movie the flintstones   \n",
       "3  6716  when was the office of the vice president created   \n",
       "4  2916      where does carbon fixation occur in c4 plants   \n",
       "\n",
       "                  answers  \n",
       "0               diffusion  \n",
       "1          April 6 , 1917  \n",
       "2       Elizabeth Perkins  \n",
       "3                    1787  \n",
       "4  in the mesophyll cells  "
      ]
     },
     "execution_count": 6,
     "metadata": {},
     "output_type": "execute_result"
    }
   ],
   "source": [
    "train_data.head()"
   ]
  },
  {
   "attachments": {},
   "cell_type": "markdown",
   "metadata": {},
   "source": [
    "### Build up knowledge base\n",
    "\n",
    "The current state-of-the-art in RAG is to create dense vector representations of the knowledge base in order to calculate the semantic similarity to a given user query.\n",
    "\n",
    "We can generate dense vector representations using embedding models. In this notebook, we use <a href=\"https://www.sbert.net/\" target=\"_blank\" rel=\"noopener no referrer\">Sentence Transformers</a> <a href=\"https://huggingface.co/sentence-transformers/all-MiniLM-L6-v2\" target=\"_blank\" rel=\"noopener no referrer\">all-MiniLM-L6-v2</a> to embed both the knowledge base passages and user queries. `all-MiniLM-L6-v2` is a performant open-source model that is small enough to run locally.\n",
    "\n",
    "A vector database is optimized for dense vector indexing and retrieval. This notebook uses <a href=\"https://python.langchain.com/docs/integrations/vectorstores/elasticsearch#basic-example\" target=\"_blank\" rel=\"noopener no referrer\">Elasticsearch</a>, a distributed, RESTful search and analytics engine, capable of performing both vector and lexical search. It is built on top of the Apache Lucene library, which offers good speed and performance with all-MiniLM-L6-v2 embedding model."
   ]
  },
  {
   "attachments": {},
   "cell_type": "markdown",
   "metadata": {},
   "source": [
    "The dataset we are using is already split into self-contained passages that can be ingested by Elasticsearch. \n",
    "\n",
    "The size of each passage is limited by the embedding model's context window (which is 256 tokens for `all-MiniLM-L6-v2`)."
   ]
  },
  {
   "attachments": {},
   "cell_type": "markdown",
   "metadata": {},
   "source": [
    "### Load knowledge base documents\n",
    "\n",
    "Load set of documents used further to build knowledge base. "
   ]
  },
  {
   "cell_type": "code",
   "execution_count": 7,
   "metadata": {},
   "outputs": [],
   "source": [
    "knowledge_base_dir = \"./knowledge_base\""
   ]
  },
  {
   "cell_type": "code",
   "execution_count": 8,
   "metadata": {},
   "outputs": [],
   "source": [
    "my_path = f\"{os.getcwd()}/knowledge_base\"\n",
    "if not os.path.isdir(my_path):\n",
    "   os.makedirs(my_path)"
   ]
  },
  {
   "cell_type": "code",
   "execution_count": 9,
   "metadata": {},
   "outputs": [],
   "source": [
    "documents = pd.read_csv(f\"{knowledge_base_dir}/psgs.tsv\", sep='\\t', header=0)\n",
    "documents['indextext'] = documents['title'].astype(str) + \"\\n\" + documents['text']\n",
    "documents = documents[:1000]"
   ]
  },
  {
   "attachments": {},
   "cell_type": "markdown",
   "metadata": {},
   "source": [
    "### Create an embedding function\n",
    "\n",
    "Note that you can feed a custom embedding function to be used by Elasticsearch. The performance of Elasticsearch may differ depending on the embedding model used."
   ]
  },
  {
   "cell_type": "code",
   "execution_count": 10,
   "metadata": {},
   "outputs": [
    {
     "name": "stderr",
     "output_type": "stream",
     "text": [
      "c:\\Users\\admin\\OneDrive - Bittek Soluciones Tecnológicas\\FORMACION\\generative_ai\\generative_ai\\watsonx_env\\Lib\\site-packages\\tqdm\\auto.py:21: TqdmWarning: IProgress not found. Please update jupyter and ipywidgets. See https://ipywidgets.readthedocs.io/en/stable/user_install.html\n",
      "  from .autonotebook import tqdm as notebook_tqdm\n",
      "c:\\Users\\admin\\OneDrive - Bittek Soluciones Tecnológicas\\FORMACION\\generative_ai\\generative_ai\\watsonx_env\\Lib\\site-packages\\huggingface_hub\\file_download.py:157: UserWarning: `huggingface_hub` cache-system uses symlinks by default to efficiently store duplicated files but your machine does not support them in C:\\Users\\admin\\.cache\\huggingface\\hub\\models--sentence-transformers--all-MiniLM-L6-v2. Caching files will still work but in a degraded version that might require more space on your disk. This warning can be disabled by setting the `HF_HUB_DISABLE_SYMLINKS_WARNING` environment variable. For more details, see https://huggingface.co/docs/huggingface_hub/how-to-cache#limitations.\n",
      "To support symlinks on Windows, you either need to activate Developer Mode or to run Python as an administrator. In order to see activate developer mode, see this article: https://docs.microsoft.com/en-us/windows/apps/get-started/enable-your-device-for-development\n",
      "  warnings.warn(message)\n",
      "c:\\Users\\admin\\OneDrive - Bittek Soluciones Tecnológicas\\FORMACION\\generative_ai\\generative_ai\\watsonx_env\\Lib\\site-packages\\huggingface_hub\\file_download.py:1132: FutureWarning: `resume_download` is deprecated and will be removed in version 1.0.0. Downloads always resume when possible. If you want to force a new download, use `force_download=True`.\n",
      "  warnings.warn(\n"
     ]
    }
   ],
   "source": [
    "from langchain.embeddings import SentenceTransformerEmbeddings\n",
    "from langchain.embeddings.base import Embeddings\n",
    "\n",
    "emb_func = SentenceTransformerEmbeddings(model_name=\"all-MiniLM-L6-v2\")"
   ]
  },
  {
   "attachments": {},
   "cell_type": "markdown",
   "metadata": {},
   "source": [
    "<a id=\"models\"></a>\n",
    "## Foundation Models on watsonx"
   ]
  },
  {
   "attachments": {},
   "cell_type": "markdown",
   "metadata": {},
   "source": [
    "### Defining model\n",
    "You need to specify `model_id` that will be used for inferencing:"
   ]
  },
  {
   "cell_type": "code",
   "execution_count": 11,
   "metadata": {},
   "outputs": [],
   "source": [
    "from ibm_watson_machine_learning.foundation_models.utils.enums import ModelTypes\n",
    "\n",
    "model_id = ModelTypes.FLAN_UL2"
   ]
  },
  {
   "cell_type": "markdown",
   "metadata": {},
   "source": [
    "### Defining the model parameters\n",
    "We need to provide a set of model parameters that will influence the result:"
   ]
  },
  {
   "cell_type": "code",
   "execution_count": 12,
   "metadata": {},
   "outputs": [],
   "source": [
    "from ibm_watson_machine_learning.metanames import GenTextParamsMetaNames as GenParams\n",
    "from ibm_watson_machine_learning.foundation_models.utils.enums import DecodingMethods\n",
    "\n",
    "parameters = {\n",
    "    GenParams.DECODING_METHOD: DecodingMethods.GREEDY,\n",
    "    GenParams.MIN_NEW_TOKENS: 1,\n",
    "    GenParams.MAX_NEW_TOKENS: 50\n",
    "}"
   ]
  },
  {
   "cell_type": "markdown",
   "metadata": {},
   "source": [
    "### Initialize the `Model` class."
   ]
  },
  {
   "cell_type": "code",
   "execution_count": 13,
   "metadata": {},
   "outputs": [],
   "source": [
    "from ibm_watson_machine_learning.foundation_models import Model\n",
    "\n",
    "watsonx_granite = Model(\n",
    "    model_id=model_id.value,\n",
    "    credentials=credentials,\n",
    "    project_id=project_id,\n",
    "    params=parameters\n",
    ").to_langchain()"
   ]
  },
  {
   "cell_type": "markdown",
   "metadata": {},
   "source": [
    "## Set up Elasticsearch Trial account\n",
    "Go to <a href=\"https://cloud.elastic.co/login?redirectTo=%2Fhome\"> Elasticsearch </a>  page, and create an account (recommended with google or microsoft).\n",
    "\n",
    "\n",
    "<a id=\"elastic_conn\"></a>\n",
    "\n",
    "We'll use the Cloud ID to identify our deployment, because we are using Elastic Cloud deployment. To find the Cloud ID for your deployment, go to https://cloud.elastic.co/deployments and select your deployment.\n",
    "To find the password for the `elastic` user, go to https://cloud.elastic.co/deployments and select your deployment. Then on the left-hand sided menu select the `Security` settings.\n",
    "Click on the `Reset password` button and copy the generated password.\n",
    "\n",
    "\n",
    "The following cell retrieves the Elasticsearch Cloud ID and password for the `elastic` user from the environment if available and prompts you otherwise."
   ]
  },
  {
   "cell_type": "code",
   "execution_count": 14,
   "metadata": {},
   "outputs": [],
   "source": [
    "# https://www.elastic.co/search-labs/tutorials/install-elasticsearch/elastic-cloud#finding-your-cloud-id\n",
    "try:\n",
    "    es_cloud_id = os.environ[\"ELASTIC_CLOUD_ID\"]\n",
    "except KeyError:\n",
    "    es_cloud_id = input(\"Please enter your Elasticsearch Cloud ID (hit enter): \")\n",
    "\n",
    "\n",
    "try:\n",
    "    es_password = os.environ[\"ELASTIC_PASSWORD\"]\n",
    "except KeyError:\n",
    "    es_password = input(\"Please enter your Elasticsearch PASSWORD (hit enter): \")"
   ]
  },
  {
   "attachments": {},
   "cell_type": "markdown",
   "metadata": {},
   "source": [
    "<a id=\"elasticsearchstore\"></a>\n",
    "## Set up ElasticsearchStore connector from Langchain\n",
    "\n",
    "\n",
    "We first create a regular Elasticsearch Python client connection. Then we pass it into LangChain's ElasticsearchStore wrapper together with the WatsonX model based embedding function.\n",
    "\n",
    "Consult the LangChain documentation For more information about <a href=\"https://api.python.langchain.com/en/latest/vectorstores/langchain.vectorstores.elasticsearch.ElasticsearchStore.html\" target=\"_blank\" rel=\"noopener no referrer\">ElasticsearchStore</a> connector."
   ]
  },
  {
   "cell_type": "code",
   "execution_count": 15,
   "metadata": {},
   "outputs": [],
   "source": [
    "from langchain_elasticsearch import ElasticsearchStore\n",
    "from elasticsearch import Elasticsearch\n",
    "\n",
    "# Create the client instance\n",
    "es_connection = Elasticsearch(\n",
    "    cloud_id=es_cloud_id,\n",
    "    basic_auth=(\"elastic\", es_password)\n",
    ")\n",
    "\n",
    "# Successful response!\n",
    "es_connection.info()\n",
    "\n",
    "\n",
    "knowledge_base = ElasticsearchStore(es_connection=es_connection,\n",
    "                                    index_name=\"test_index\",\n",
    "                                    embedding=emb_func,\n",
    "                                    strategy=ElasticsearchStore.ApproxRetrievalStrategy(),\n",
    "                                    distance_strategy=\"DOT_PRODUCT\")\n"
   ]
  },
  {
   "cell_type": "markdown",
   "metadata": {},
   "source": [
    "<a id=\"elasticsearchstore_index\"></a>\n",
    "### Embed and index documents with Elasticsearch\n",
    "\n",
    "**Note: Could take several minutes if you don't have pre-built indices**"
   ]
  },
  {
   "cell_type": "code",
   "execution_count": 16,
   "metadata": {},
   "outputs": [],
   "source": [
    "if es_connection.indices.exists(index=\"test_index\"):\n",
    "    es_connection.indices.delete(index=\"test_index\")\n",
    "_ = knowledge_base.add_texts(texts=documents.indextext.tolist(),\n",
    "                             metadatas=[{'title': title, 'id': doc_id}\n",
    "                                for (title, doc_id) in\n",
    "                                zip(documents.title, documents.id)],  # filter on these!\n",
    "                             index_name=\"test_index\",\n",
    "                             ids=[str(i) for i in documents.id]  # unique for each doc\n",
    "                            )"
   ]
  },
  {
   "cell_type": "markdown",
   "metadata": {},
   "source": [
    "Let's take a look in Elasticsearch what the LangChain wrapper has created. First we display the newly created index (\"tables\" in Elasticsearch are always called \"index\"). Note the field `vector` of type `dense_vector` with `dot_product` similarity."
   ]
  },
  {
   "cell_type": "code",
   "execution_count": 17,
   "metadata": {},
   "outputs": [
    {
     "data": {
      "text/plain": [
       "{'test_index': {'aliases': {},\n",
       "  'mappings': {'properties': {'metadata': {'properties': {'id': {'type': 'long'},\n",
       "      'title': {'type': 'text',\n",
       "       'fields': {'keyword': {'type': 'keyword', 'ignore_above': 256}}}}},\n",
       "    'text': {'type': 'text',\n",
       "     'fields': {'keyword': {'type': 'keyword', 'ignore_above': 256}}},\n",
       "    'vector': {'type': 'dense_vector',\n",
       "     'dims': 384,\n",
       "     'index': True,\n",
       "     'similarity': 'dot_product'}}},\n",
       "  'settings': {'index': {'routing': {'allocation': {'include': {'_tier_preference': 'data_content'}}},\n",
       "    'number_of_shards': '1',\n",
       "    'provided_name': 'test_index',\n",
       "    'creation_date': '1716473289555',\n",
       "    'number_of_replicas': '1',\n",
       "    'uuid': '9O7O6U_gTVaai8Fv5oKmiA',\n",
       "    'version': {'created': '8503000'}}}}}"
      ]
     },
     "execution_count": 17,
     "metadata": {},
     "output_type": "execute_result"
    }
   ],
   "source": [
    "dict(es_connection.indices.get(index=\"test_index\"))"
   ]
  },
  {
   "cell_type": "markdown",
   "metadata": {},
   "source": [
    "Verify the number of documents loaded into the Elasticsearch index."
   ]
  },
  {
   "cell_type": "code",
   "execution_count": 18,
   "metadata": {},
   "outputs": [
    {
     "data": {
      "text/plain": [
       "1000"
      ]
     },
     "execution_count": 18,
     "metadata": {},
     "output_type": "execute_result"
    }
   ],
   "source": [
    "doc_count = es_connection.count(index='test_index')[\"count\"]\n",
    "doc_count"
   ]
  },
  {
   "cell_type": "markdown",
   "metadata": {},
   "source": [
    "Let's retrieve a random document as a sample. Note the embedding in the vector field, that was generated with the WatsonX embedding model."
   ]
  },
  {
   "cell_type": "code",
   "execution_count": 19,
   "metadata": {},
   "outputs": [
    {
     "data": {
      "text/plain": [
       "{'_index': 'test_index',\n",
       " '_id': '350',\n",
       " '_version': 1,\n",
       " '_seq_no': 349,\n",
       " '_primary_term': 1,\n",
       " 'found': True,\n",
       " '_source': {'text': \"Gold standard\\nused in coins worth less than $1 ( fractional currency ) . With the resumption of convertibility on June 30 , 1879 the government again paid its debts in gold , accepted greenbacks for customs and redeemed greenbacks on demand in gold . Greenbacks were therefore perfect substitutes for gold coins . During the latter part of the nineteenth century the use of silver and a return to the bimetallic standard were recurrent political issues , raised especially by William Jennings Bryan , the People 's Party and the Free Silver movement . In 1900 the gold dollar was declared the standard unit of account and a gold reserve for government issued paper notes was established . Greenbacks , silver certificates , and silver dollars continued to be legal tender , all redeemable in gold . Fluctuations in the US gold stock , 1862 -- 1877 US gold stock 1862 59 tons 1866 81 tons 1875 50 tons 1878 78 tons The US had a gold stock of 1.9 million ounces ( 59 t ) in 1862 . Stocks rose to 2.6 million ounces ( 81 t ) in 1866 , declined in 1875 to 1.6 million ounces ( 50 t ) and rose to 2.5 million ounces ( 78 t ) in 1878 . Net exports did not mirror that pattern . In the decade before the Civil War net exports were roughly constant ; postwar they varied erratically around pre-war levels , but fell significantly in 1877 and\",\n",
       "  'metadata': {'title': 'Gold standard', 'id': 350},\n",
       "  'vector': [-0.06337693333625793,\n",
       "   0.034945517778396606,\n",
       "   -0.054047513753175735,\n",
       "   0.04866630211472511,\n",
       "   -0.013298782519996166,\n",
       "   -0.025413164868950844,\n",
       "   0.03383282199501991,\n",
       "   0.08120862394571304,\n",
       "   -0.022976351901888847,\n",
       "   -0.047547612339258194,\n",
       "   0.005806611850857735,\n",
       "   0.043570563197135925,\n",
       "   -0.018052715808153152,\n",
       "   0.0010984278051182628,\n",
       "   0.002441990189254284,\n",
       "   0.02135322242975235,\n",
       "   0.043018728494644165,\n",
       "   0.0668896958231926,\n",
       "   -0.057677604258060455,\n",
       "   0.08998721837997437,\n",
       "   0.030433906242251396,\n",
       "   -0.07018495351076126,\n",
       "   -0.06257472187280655,\n",
       "   -0.03973422944545746,\n",
       "   0.0229920856654644,\n",
       "   0.08088507503271103,\n",
       "   -0.11513134837150574,\n",
       "   -0.037810519337654114,\n",
       "   -0.0031042834743857384,\n",
       "   0.022942882031202316,\n",
       "   -0.08028989285230637,\n",
       "   -0.04811563715338707,\n",
       "   0.056133706122636795,\n",
       "   -0.025214500725269318,\n",
       "   -0.0347704254090786,\n",
       "   -0.07517848908901215,\n",
       "   0.10215701907873154,\n",
       "   0.07993806153535843,\n",
       "   -0.021594330668449402,\n",
       "   0.015138882212340832,\n",
       "   -0.008060420863330364,\n",
       "   0.03013456240296364,\n",
       "   -0.007531292270869017,\n",
       "   -0.06312956660985947,\n",
       "   -0.1113322377204895,\n",
       "   0.01896090991795063,\n",
       "   0.02393893525004387,\n",
       "   0.028385765850543976,\n",
       "   -0.05303507298231125,\n",
       "   0.016836965456604958,\n",
       "   0.16934682428836823,\n",
       "   0.03998484089970589,\n",
       "   -0.11671870946884155,\n",
       "   0.039346251636743546,\n",
       "   0.03249911963939667,\n",
       "   0.015900714322924614,\n",
       "   0.04486123472452164,\n",
       "   -0.061462435871362686,\n",
       "   0.003130472032353282,\n",
       "   -0.028006168082356453,\n",
       "   -0.04793896898627281,\n",
       "   0.032070256769657135,\n",
       "   0.04031285643577576,\n",
       "   -0.034065671265125275,\n",
       "   -0.001246894709765911,\n",
       "   0.05629401281476021,\n",
       "   -0.02239610254764557,\n",
       "   -0.028812967240810394,\n",
       "   -0.008250834420323372,\n",
       "   -0.04020659625530243,\n",
       "   0.027227090671658516,\n",
       "   0.007649481762200594,\n",
       "   -0.05613988637924194,\n",
       "   -0.006588598247617483,\n",
       "   -0.05024033412337303,\n",
       "   0.017354372888803482,\n",
       "   0.1554892361164093,\n",
       "   0.06409870833158493,\n",
       "   -0.003754743142053485,\n",
       "   -0.0003742573317140341,\n",
       "   -0.028432117775082588,\n",
       "   0.014915086328983307,\n",
       "   0.032191868871450424,\n",
       "   -0.009643902070820332,\n",
       "   0.04861271753907204,\n",
       "   -0.04608875513076782,\n",
       "   -0.025334157049655914,\n",
       "   0.00864548608660698,\n",
       "   -0.003672088496387005,\n",
       "   -0.06426354497671127,\n",
       "   0.05261911451816559,\n",
       "   -0.015516567043960094,\n",
       "   0.005079922266304493,\n",
       "   -0.0072943964041769505,\n",
       "   0.11795537173748016,\n",
       "   -0.01439587026834488,\n",
       "   -0.027484672144055367,\n",
       "   0.015461212955415249,\n",
       "   0.07659225910902023,\n",
       "   0.005508106667548418,\n",
       "   0.1709578037261963,\n",
       "   0.07513322681188583,\n",
       "   0.06726174801588058,\n",
       "   -0.025789489969611168,\n",
       "   0.024176882579922676,\n",
       "   0.06520109623670578,\n",
       "   -0.045670874416828156,\n",
       "   0.012808231636881828,\n",
       "   -0.0002891910553444177,\n",
       "   0.021504761651158333,\n",
       "   0.0677853599190712,\n",
       "   -0.03340327739715576,\n",
       "   0.02976802922785282,\n",
       "   -0.022845614701509476,\n",
       "   -0.028364764526486397,\n",
       "   -0.033402811735868454,\n",
       "   -0.13941359519958496,\n",
       "   -0.03707753121852875,\n",
       "   -0.032830048352479935,\n",
       "   -0.009340399876236916,\n",
       "   0.06859733164310455,\n",
       "   0.019596446305513382,\n",
       "   -0.030988838523626328,\n",
       "   -0.03610922023653984,\n",
       "   -0.031178243458271027,\n",
       "   0.11385636776685715,\n",
       "   0.05532176047563553,\n",
       "   6.437159052848988e-34,\n",
       "   -0.12870623171329498,\n",
       "   0.0462697297334671,\n",
       "   -0.0036157192662358284,\n",
       "   -0.11983838677406311,\n",
       "   0.01678301766514778,\n",
       "   0.009258066304028034,\n",
       "   0.05378439277410507,\n",
       "   0.02927182801067829,\n",
       "   0.018999401479959488,\n",
       "   0.02036525122821331,\n",
       "   0.05808407440781593,\n",
       "   0.07232417911291122,\n",
       "   -0.008349406532943249,\n",
       "   -0.025268685072660446,\n",
       "   -0.01065904088318348,\n",
       "   -0.05426490306854248,\n",
       "   0.015701085329055786,\n",
       "   -0.024906476959586143,\n",
       "   0.13253186643123627,\n",
       "   -0.011689308099448681,\n",
       "   -0.024253956973552704,\n",
       "   -0.06695666909217834,\n",
       "   0.0053450786508619785,\n",
       "   -0.008039526641368866,\n",
       "   -0.0007232372299768031,\n",
       "   0.019890014082193375,\n",
       "   -0.04420660436153412,\n",
       "   0.0032639247365295887,\n",
       "   0.036200955510139465,\n",
       "   -0.017861638218164444,\n",
       "   0.058580465614795685,\n",
       "   0.03276127576828003,\n",
       "   0.02829323709011078,\n",
       "   -0.042122453451156616,\n",
       "   0.054893434047698975,\n",
       "   0.00383925111964345,\n",
       "   0.08974561840295792,\n",
       "   -0.020378921180963516,\n",
       "   -0.007577060721814632,\n",
       "   -0.0598093718290329,\n",
       "   0.05889657884836197,\n",
       "   0.060142792761325836,\n",
       "   0.01687168888747692,\n",
       "   0.06075563654303551,\n",
       "   0.04982442781329155,\n",
       "   0.03958393633365631,\n",
       "   0.024944249540567398,\n",
       "   0.08323641866445541,\n",
       "   0.005304750055074692,\n",
       "   -0.05467293784022331,\n",
       "   -0.10574431717395782,\n",
       "   0.04181601479649544,\n",
       "   -0.06272242963314056,\n",
       "   -0.0021231037098914385,\n",
       "   -0.07677418738603592,\n",
       "   -0.058192890137434006,\n",
       "   -0.01120926532894373,\n",
       "   -0.014647049829363823,\n",
       "   -0.07502511888742447,\n",
       "   -0.04805126041173935,\n",
       "   -0.0008619390428066254,\n",
       "   0.07333480566740036,\n",
       "   0.03796825557947159,\n",
       "   0.038984738290309906,\n",
       "   -0.11762067675590515,\n",
       "   0.124315544962883,\n",
       "   -0.07243907451629639,\n",
       "   -0.020249707624316216,\n",
       "   -0.1442144811153412,\n",
       "   0.053420618176460266,\n",
       "   0.0029882623348385096,\n",
       "   -0.0002848687581717968,\n",
       "   -0.09520897269248962,\n",
       "   0.026138950139284134,\n",
       "   0.018191207200288773,\n",
       "   -0.023472635075449944,\n",
       "   0.12841099500656128,\n",
       "   -0.04619808495044708,\n",
       "   0.013061871752142906,\n",
       "   -0.0652826577425003,\n",
       "   -0.06389861553907394,\n",
       "   0.03555716574192047,\n",
       "   0.04012787342071533,\n",
       "   0.03154781460762024,\n",
       "   -0.006629398558288813,\n",
       "   -0.04772805795073509,\n",
       "   -0.03287961706519127,\n",
       "   -0.024480603635311127,\n",
       "   0.0674373209476471,\n",
       "   -0.02135618031024933,\n",
       "   0.013207540847361088,\n",
       "   -0.03469456732273102,\n",
       "   -0.04195014387369156,\n",
       "   -0.006668030750006437,\n",
       "   -0.033645447343587875,\n",
       "   -1.8306193930546263e-33,\n",
       "   -0.029086478054523468,\n",
       "   0.06405945122241974,\n",
       "   -0.03707593306899071,\n",
       "   0.08437051624059677,\n",
       "   0.042342398315668106,\n",
       "   -0.02681177854537964,\n",
       "   -0.004263619892299175,\n",
       "   0.06285237520933151,\n",
       "   0.014195330440998077,\n",
       "   0.0056112841702997684,\n",
       "   0.0040202671661973,\n",
       "   -0.02989109791815281,\n",
       "   -0.0484139584004879,\n",
       "   0.016216285526752472,\n",
       "   -0.00653190677985549,\n",
       "   0.009589258581399918,\n",
       "   -0.06982067227363586,\n",
       "   0.10816290974617004,\n",
       "   -0.034253913909196854,\n",
       "   -0.05926274508237839,\n",
       "   -0.03429047390818596,\n",
       "   0.0223612729460001,\n",
       "   0.033673785626888275,\n",
       "   0.06633603572845459,\n",
       "   -0.03052676096558571,\n",
       "   0.046455156058073044,\n",
       "   -0.10058677196502686,\n",
       "   -0.12321572005748749,\n",
       "   0.05332309007644653,\n",
       "   -0.05077485367655754,\n",
       "   0.0032177360262721777,\n",
       "   0.029107725247740746,\n",
       "   0.005051507148891687,\n",
       "   0.005835328251123428,\n",
       "   -0.07370123267173767,\n",
       "   -0.05082099884748459,\n",
       "   0.054781630635261536,\n",
       "   -0.012223576195538044,\n",
       "   0.026763688772916794,\n",
       "   0.07078594714403152,\n",
       "   -0.012648964300751686,\n",
       "   0.019474191591143608,\n",
       "   0.03980225697159767,\n",
       "   0.08577656745910645,\n",
       "   -0.03705199435353279,\n",
       "   0.014782567508518696,\n",
       "   -0.03003082238137722,\n",
       "   0.046914227306842804,\n",
       "   0.04957767203450203,\n",
       "   -0.02095375582575798,\n",
       "   -0.031246421858668327,\n",
       "   -0.03537515550851822,\n",
       "   0.013669229112565517,\n",
       "   0.04416963458061218,\n",
       "   -0.09818106144666672,\n",
       "   0.037535637617111206,\n",
       "   0.08356812596321106,\n",
       "   0.021951815113425255,\n",
       "   -0.08870048075914383,\n",
       "   -0.0015400102129206061,\n",
       "   -0.038484588265419006,\n",
       "   0.024803340435028076,\n",
       "   -0.007908022962510586,\n",
       "   -0.02183217741549015,\n",
       "   0.017832107841968536,\n",
       "   -0.0019262033747509122,\n",
       "   0.04628317803144455,\n",
       "   0.025159655138850212,\n",
       "   -0.04220190271735191,\n",
       "   0.0007177367224358022,\n",
       "   -0.027452917769551277,\n",
       "   -0.023499350994825363,\n",
       "   0.034677475690841675,\n",
       "   -0.06517300754785538,\n",
       "   0.06930643320083618,\n",
       "   0.07805357873439789,\n",
       "   -0.019761482253670692,\n",
       "   -0.037259530276060104,\n",
       "   0.02240217849612236,\n",
       "   0.055973682552576065,\n",
       "   0.02940932661294937,\n",
       "   0.06825421750545502,\n",
       "   0.0682724267244339,\n",
       "   -0.06402740627527237,\n",
       "   0.006831821519881487,\n",
       "   -0.004677501507103443,\n",
       "   -0.018422193825244904,\n",
       "   0.014124476350843906,\n",
       "   -0.08360400795936584,\n",
       "   0.048483435064554214,\n",
       "   -0.06228546425700188,\n",
       "   -0.06820116192102432,\n",
       "   0.025089720264077187,\n",
       "   0.02571719139814377,\n",
       "   0.006774394307285547,\n",
       "   -4.247195661832848e-08,\n",
       "   -0.03756728023290634,\n",
       "   0.03298282250761986,\n",
       "   -0.0035402735229581594,\n",
       "   0.03100396879017353,\n",
       "   -0.036148104816675186,\n",
       "   -0.03043036162853241,\n",
       "   0.04642355069518089,\n",
       "   -0.06545722484588623,\n",
       "   -0.07364823669195175,\n",
       "   0.021299509331583977,\n",
       "   -0.09470595419406891,\n",
       "   -0.03398887813091278,\n",
       "   -0.07946609705686569,\n",
       "   -0.05024184659123421,\n",
       "   -0.0359969362616539,\n",
       "   -0.030728638172149658,\n",
       "   -0.008545750752091408,\n",
       "   -0.02873210608959198,\n",
       "   -0.002088333247229457,\n",
       "   0.007789021823555231,\n",
       "   0.03639185056090355,\n",
       "   0.04551747068762779,\n",
       "   0.013213668018579483,\n",
       "   -0.016077423468232155,\n",
       "   0.0009032707894220948,\n",
       "   0.011192074976861477,\n",
       "   0.04658707231283188,\n",
       "   0.07809826731681824,\n",
       "   -0.0035844692029058933,\n",
       "   0.0324721559882164,\n",
       "   -0.035849835723638535,\n",
       "   0.05019690841436386,\n",
       "   -0.03981573134660721,\n",
       "   -0.018058642745018005,\n",
       "   -0.0032129876781255007,\n",
       "   -0.017082838341593742,\n",
       "   0.006828670855611563,\n",
       "   0.04439197853207588,\n",
       "   0.022668633610010147,\n",
       "   -0.047641854733228683,\n",
       "   -0.006156288553029299,\n",
       "   -0.021001409739255905,\n",
       "   -0.09665436297655106,\n",
       "   -0.0183592289686203,\n",
       "   0.08104309439659119,\n",
       "   0.014949880540370941,\n",
       "   -0.15494374930858612,\n",
       "   0.03621385991573334,\n",
       "   0.007650338113307953,\n",
       "   -0.059087589383125305,\n",
       "   -0.04939429461956024,\n",
       "   -0.04591173678636551,\n",
       "   -0.00010693134390749037,\n",
       "   -0.011588025838136673,\n",
       "   0.026929084211587906,\n",
       "   -0.029124390333890915,\n",
       "   -0.036787740886211395,\n",
       "   0.01930895820260048,\n",
       "   -0.027610842138528824,\n",
       "   -0.04743224009871483,\n",
       "   0.013388898223638535,\n",
       "   -0.07031970471143723,\n",
       "   0.012527113780379295,\n",
       "   -0.020227637141942978]}}"
      ]
     },
     "execution_count": 19,
     "metadata": {},
     "output_type": "execute_result"
    }
   ],
   "source": [
    "dict(es_connection.get(index=\"test_index\", id=random.randint(0, len(documents)-1)))"
   ]
  },
  {
   "cell_type": "markdown",
   "metadata": {},
   "source": [
    "Display the total size and indexing time of the new index in Elasticsearch."
   ]
  },
  {
   "cell_type": "code",
   "execution_count": 20,
   "metadata": {},
   "outputs": [
    {
     "name": "stdout",
     "output_type": "stream",
     "text": [
      "Index size:    4.7 MB\n",
      "Indexing time: 0 minutes\n"
     ]
    }
   ],
   "source": [
    "index_stats = es_connection.indices.stats(index=\"test_index\").get('_all').get('primaries')\n",
    "print(\"Index size:    \" + humanize.naturalsize(index_stats.get('store').get('size_in_bytes')))\n",
    "print(\"Indexing time: \" + humanize.precisedelta(index_stats.get('indexing').get('index_time_in_millis')/1000, minimum_unit='minutes'))\n"
   ]
  },
  {
   "attachments": {},
   "cell_type": "markdown",
   "metadata": {},
   "source": [
    "<a id=\"predict\"></a>\n",
    "## Generate a retrieval-augmented response to a question"
   ]
  },
  {
   "cell_type": "markdown",
   "metadata": {},
   "source": [
    "`RetrievalQA` is a chain to do question answering.\n",
    "\n",
    "**Hint:** To use Chain interface from LangChain with watsonx.ai models you must call `model.to_langchain()` method. \n",
    "\n",
    "It returns `WatsonxLLM` wrapper compatible with LangChain CustomLLM specification."
   ]
  },
  {
   "attachments": {},
   "cell_type": "markdown",
   "metadata": {},
   "source": [
    "### Select questions\n",
    "\n",
    "The prompts we will use to test the RAG flow"
   ]
  },
  {
   "cell_type": "code",
   "execution_count": 21,
   "metadata": {},
   "outputs": [],
   "source": [
    "questions_and_answers = {\n",
    "            'names of founding fathers of the united states?': \"Thomas Jefferson::James Madison::John Jay::George Washington::John Adams::Benjamin Franklin::Alexander Hamilton\",\n",
    "            'who played in the super bowl in 2013?': 'Baltimore Ravens::San Francisco 49ers',\n",
    "            'when did bucharest become the capital of romania?': '1862'\n",
    "}"
   ]
  },
  {
   "cell_type": "markdown",
   "metadata": {},
   "source": [
    "### Retrieve relevant context\n",
    "\n",
    "Fetch paragraphs similar to the question"
   ]
  },
  {
   "cell_type": "code",
   "execution_count": 22,
   "metadata": {},
   "outputs": [],
   "source": [
    "from langchain.chains import RetrievalQA\n",
    "\n",
    "qa = RetrievalQA.from_chain_type(llm=watsonx_granite, chain_type=\"stuff\",verbose=True, retriever=knowledge_base.as_retriever(), return_source_documents=True)"
   ]
  },
  {
   "cell_type": "code",
   "execution_count": 23,
   "metadata": {},
   "outputs": [
    {
     "name": "stdout",
     "output_type": "stream",
     "text": [
      "\n",
      "\n",
      "\u001b[1m> Entering new RetrievalQA chain...\u001b[0m\n",
      "\n",
      "\u001b[1m> Finished chain.\u001b[0m\n",
      "result:  {'query': 'names of founding fathers of the united states?', 'result': 'John Adams , Benjamin Franklin , Alexander Hamilton , John Jay , Thomas Jefferson , James Madison , and George Washington', 'source_documents': [Document(page_content=\"Founding Fathers of the United States\\n^ Burstein , Andrew . `` Politics and Personalities : Garry Wills takes a new look at a forgotten founder , slavery and the shaping of America '' , Chicago Tribune ( November 09 , 2003 ) : `` Forgotten founders such as Pickering and Morris made as many waves as those whose faces stare out from our currency . '' ^ Jump up to : Rafael , Ray . The Complete Idiot 's Guide to the Founding Fathers : And the Birth of Our Nation ( Penguin , 2011 ) . Jump up ^ `` Founding Fathers : Virginia '' . FindLaw Constitutional Law Center . 2008 . Retrieved 2008 - 11 - 14 . Jump up ^ Schwartz , Laurens R. Jews and the American Revolution : Haym Solomon and Others , Jefferson , North Carolina : McFarland & Co. , 1987 . Jump up ^ Kendall , Joshua . The Forgotten Founding Father : Noah Webster 's Obsession and the Creation of an American Culture ( Penguin 2011 ) . Jump up ^ Wright , R.E. ( 1996 ) . `` Thomas Willing ( 1731 - 1821 ) : Philadelphia Financier and Forgotten Founding Father '' . Pennsylvania History . 63 ( 4 ) : 525 -- 560 . doi : 10.2307 / 27773931 ( inactive 2017 - 01 - 15 ) . JSTOR 27773931 . Jump up ^ `` A Patriot of Early New England '' , New York Times ( December 20 , 1931 )\", metadata={'title': 'Founding Fathers of the United States', 'id': 913}), Document(page_content=\"Founding Fathers of the United States\\nPresident of Congress Peyton Randolph New Hampshire John Sullivan Nathaniel Folsom Massachusetts Bay Thomas Cushing Samuel Adams John Adams Robert Treat Paine Rhode Island Stephen Hopkins Samuel Ward Connecticut Eliphalet Dyer Roger Sherman Silas Deane New York Isaac Low John Alsop John Jay James Duane Philip Livingston William Floyd Henry Wisner Simon Boerum New Jersey James Kinsey William Livingston Stephen Crane Richard Smith John De Hart Pennsylvania Joseph Galloway John Dickinson Charles Humphreys Thomas Mifflin Edward Biddle John Morton George Ross The Lower Counties Caesar Rodney Thomas McKean George Read Maryland Matthew Tilghman Thomas Johnson , Junr William Paca Samuel Chase Virginia Richard Henry Lee George Washington Patrick Henry , Junr Richard Bland Benjamin Harrison Edmund Pendleton North Carolina William Hooper Joseph Hewes Richard Caswell South Carolina Henry Middleton Thomas Lynch Christopher Gadsden John Rutledge Edward Rutledge See also Virginia Association First Continental Congress Carpenters ' Hall Declaration and Resolves of the First Continental Congress Retrieved from `` https://en.wikipedia.org/w/index.php?title=Founding_Fathers_of_the_United_States&oldid=815247535 '' Categories : Age of Enlightenment American Revolution Articles about multiple people Patriots in the American Revolution Political leaders of the American Revolution National founders Hidden categories : Webarchive template wayback links Pages with DOIs inactive since 2017 Use mdy dates from April 2011 Talk Read Contents About Wikipedia Wikiquote Bân - lâm - gú Башҡортса Bikol Central Български Brezhoneg Català Čeština Cymraeg Deutsch Ελληνικά Español Esperanto فارسی Français 한국어 Հայերեն हिन्दी Ido Bahasa Indonesia Interlingua Íslenska Italiano עברית Latina Lietuvių Magyar Bahasa Melayu Nederlands 日本 語 Norsk Polski Português Română\", metadata={'title': 'Founding Fathers of the United States', 'id': 940}), Document(page_content='Founding Fathers of the United States\\nFounding Fathers of the United States - wikipedia Founding Fathers of the United States Jump to : navigation , search Declaration of Independence , a painting by John Trumbull depicting the Committee of Five presenting their draft to the Congress on June 28 , 1776 Signature page of Treaty of Paris ( 1783 ) ; the treaty was negotiated by John Adams , Benjamin Franklin and John Jay . The Founding Fathers of the United States were those individuals of the Thirteen Colonies in North America who led the American Revolution against the authority of the British Crown in word and deed and contributed to the establishment of the United States of America . Historian Richard B. Morris in 1973 identified the following seven figures as the key Founding Fathers : John Adams , Benjamin Franklin , Alexander Hamilton , John Jay , Thomas Jefferson , James Madison , and George Washington . Adams , Jefferson , and Franklin were members of the Committee of Five that drafted the Declaration of Independence . Hamilton , Madison , and Jay were authors of The Federalist Papers , advocating ratification of the Constitution . The constitutions drafted by Jay and Adams for their respective states of New York ( 1777 ) and Massachusetts ( 1780 ) were heavily relied upon when creating language for the US Constitution Jay , Adams and Franklin negotiated the Treaty of Paris ( 1783 ) that would end the American Revolutionary War . Washington was Commander -', metadata={'title': 'Founding Fathers of the United States', 'id': 878}), Document(page_content=\"Founding Fathers of the United States\\nPrior to , and during the 19th century , they were referred to as simply the `` Fathers '' . The term has been used to describe the founders and first settlers of the original royal colonies . Contents ( hide ) 1 Background 2 Interesting facts and commonalities 2.1 Education 2.1. 1 Colleges attended 2.1. 2 Advanced degrees and apprenticeships 2.1. 2.1 Doctors of medicine 2.1. 2.2 Theology 2.1. 2.3 Legal apprenticeships 2.1. 3 Self - taught or little formal education 2.2 Demographics 2.3 Political experience 2.4 Occupations and finances 2.5 Religion 2.6 Ownership of slaves and position on slavery 2.7 Attendance at conventions 2.8 Spouses and children 2.9 Charters of freedom and historical documents of the United States 2.10 Post-constitution life 2.11 Youth and longevity 2.12 Founders who were not signatories or delegates 3 Legacy 3.1 Institutions formed by Founders 3.2 Scholarship on the Founders 3.2. 1 Living historians whose focus is the Founding Fathers 3.2. 2 Noted collections of the Founding Fathers 3.3 In stage and film 3.4 Children 's books 4 See also 5 Notes 6 References 7 External links Background ( edit ) The Albany Congress of 1754 was a conference attended by seven colonies , which presaged later efforts at cooperation . The Stamp Act Congress of 1765 included representatives from nine colonies . The First Continental Congress met briefly in Philadelphia , Pennsylvania in 1774 , consisting of fifty - six delegates from twelve of the thirteen colonies ( excluding Georgia ) that\", metadata={'title': 'Founding Fathers of the United States', 'id': 880})]}\n",
      "\n",
      "\n",
      "\u001b[1m> Entering new RetrievalQA chain...\u001b[0m\n",
      "\n",
      "\u001b[1m> Finished chain.\u001b[0m\n",
      "result:  {'query': 'who played in the super bowl in 2013?', 'result': 'Baltimore Ravens', 'source_documents': [Document(page_content=\"Super Bowl XLVII\\nresponded to the claim on Twitter in jest , tweeting `` There is no conspiracy . I pulled the plug . '' Box score ( edit ) Super Bowl XLVII : Baltimore Ravens 34 , San Francisco 49ers 31 Total Ravens ( AFC ) 7 14 7 6 34 49ers ( NFC ) 17 8 31 at Mercedes - Benz Superdome in New Orleans , Louisiana Date : February 3 , 2013 Game time : 5 : 31 p.m. CST Game weather : Played indoors ( dome stadium ) Game attendance : 71,024 Referee : Jerome Boger TV announcers ( CBS ) : Jim Nantz , Phil Simms , Steve Tasker , Solomon Wilcots Gamebook ( hide ) Scoring summary Quarter Time Drive Team Scoring information Score Plays Yards TOP BAL SF 10 : 36 6 51 2 : 29 BAL Anquan Boldin 13 - yard touchdown reception from Joe Flacco , Justin Tucker kick good 7 0 3 : 58 12 62 6 : 38 SF 36 - yard field goal by David Akers 7 7 : 10 10 75 4 : 43 BAL Dennis Pitta 1 - yard touchdown reception from Flacco , Tucker kick good 14 1 : 45 56 0 : 22 BAL Jacoby Jones 56 - yard touchdown reception from Flacco , Tucker kick good 21 0 : 00 8 71 1 : 45 SF 27 - yard field goal by Akers 21 6 14 : 49 -- -- -- BAL J. Jones 108 -\", metadata={'title': 'Super Bowl XLVII', 'id': 848}), Document(page_content=\"Super Bowl XLVII\\nfor the 2012 season . The Ravens defeated the 49ers by the score of 34 -- 31 , handing the 49ers their first Super Bowl loss in franchise history . The game was played on February 3 , 2013 , at Mercedes - Benz Superdome in New Orleans , Louisiana . This was the tenth Super Bowl to be played in New Orleans , equaling Miami 's record of ten in an individual city . For the first time in Super Bowl history , the game featured two brothers coaching against each other -- Jim and John Harbaugh , head coaches of the San Francisco 49ers and Baltimore Ravens , respectively -- earning it the nickname Harbaugh Bowl . In addition , Super Bowl XLVII was the first to feature two teams that had undefeated records in previous Super Bowl games ( Baltimore , 1 -- 0 ; San Francisco , 5 -- 0 ) . The 49ers , who posted a regular - season record of 11 -- 4 -- 1 , entered the game seeking their sixth Super Bowl win in team history ( and first since Super Bowl XXIX at the end of the 1994 season ) , which would have tied the Pittsburgh Steelers for the most by a franchise . The Ravens , who posted a 10 -- 6 regular - season record , made their second Super Bowl appearance in 12 years , having previously won Super Bowl XXXV . Ray Lewis , the\", metadata={'title': 'Super Bowl XLVII', 'id': 819}), Document(page_content=\"Super Bowl XLVII\\npreview : A minute - by - minute breakdown '' . USA Today . Retrieved February 2 , 2013 . Jump up ^ `` Beyonce half time performance '' . NFL.Com . February 4 , 2013 . Retrieved February 5 , 2013 . Jump up ^ `` Beyonce wows at half - time show '' . BBC News . February 4 , 2013 . Retrieved February 5 , 2013 . Jump up ^ `` Beyonce Draws Estimated 104 Million to Super Bowl Halftime '' . ^ Jump up to : `` Play - by - Play '' . ESPN . February 3 , 2013 . Retrieved February 4 , 2013 . Jump up ^ Inman , Cam ( February 3 , 2013 ) . `` Super Bowl 2013 : San Francisco 49ers ' furious comeback falls short in 34 -- 31 loss to Baltimore Ravens -- San Jose Mercury News '' . San Jose Mercury News . Retrieved February 4 , 2013 . ^ Jump up to : `` Jacoby Jones returns kick 108 yards '' . ESPN.com . February 4 , 2013 . Retrieved April 24 , 2016 . Jump up ^ `` Watch Baltimore Ravens vs. Denver Broncos ( 01 / 12 / 2013 ) '' . NFL . Retrieved February 4 , 2013 . ^ Jump up to : Rosenthal , Gregg ( February 3 , 2013 ) . `` Jacoby Jones ' 108 - yard return TD a Super Bowl record '' . NFL . Retrieved\", metadata={'title': 'Super Bowl XLVII', 'id': 865}), Document(page_content=\"Super Bowl XLVII\\nMVP Award '' . Forbes.com . February 4 , 2013 . Retrieved February 6 , 2013 . Jump up ^ Heitner , Darren ( April 18 , 2013 ) . `` Is It Worth Spending $4 Million On A Super Bowl Commercial ? '' . Forbes . Retrieved February 4 , 2013 . Jump up ^ Collins , Scott ( February 5 , 2013 ) . `` Super Bowl ratings dip slightly from last year '' . Los Angeles Times . Retrieved February 5 , 2013 . ^ Jump up to : `` New Orleans to host 10th Super Bowl in 2013 '' . ESPN.com . Associated Press . May 19 , 2009 . Retrieved January 14 , 2011 . Jump up ^ Ally Burguieres Designs Official NFL Beads with Courtyard by Marriott for SuperBowl -- WGNO -- YouTube on YouTube Jump up ^ Wilner , Barry ( January 21 , 2013 ) . `` Ravens dominate Pats , set up ' Harbaugh Bowl ' '' . NBC Sports . Associated Press . Retrieved January 21 , 2013 . Jump up ^ Brinson , Will . `` Sorting the Sunday Pile , Divisional Round : Harbaugh Bowl still lives '' . CBSSports.com . CBS Interactive . Retrieved January 21 , 2013 . Jump up ^ Schwab , Frank . `` HarBowl ! Harbaugh brothers Jim and John to square off in Super Bowl '' . Yahoo ! Sports . Retrieved January 21 , 2003 . Jump up ^ `` The\", metadata={'title': 'Super Bowl XLVII', 'id': 857})]}\n",
      "\n",
      "\n",
      "\u001b[1m> Entering new RetrievalQA chain...\u001b[0m\n",
      "\n",
      "\u001b[1m> Finished chain.\u001b[0m\n",
      "result:  {'query': 'when did bucharest become the capital of romania?', 'result': '1862', 'source_documents': [Document(page_content=\"Bucharest\\nEU ) Density 9,237 / km ( 23,920 / sq mi ) Metro 2,412,530 Demonym ( s ) Bucharester ( en ) bucureștean , bucureșteancă ( ro ) Time zone UTC + 2 ( EET ) Summer ( DST ) UTC + 3 ( EEST ) Postal code 0xxxxx Area code ( s ) + 40 x1 Car plate prefix GDP ( Nominal ) € 47 billion - Per capita PPP € 40,400 -- Per capita € 20,000 Website pmb.ro Romanian law stipulates that Bucharest has a special administrative status which is equal to that of a County ; Bucharest metropolitan area is a proposed project . Bucharest ( / ˈb ( j ) uː kərɛst / ; Romanian : București ( bukuˈreʃtj ) ( listen ) ) is the capital and largest city of Romania , as well as its cultural , industrial , and financial centre . It is located in the southeast of the country , at 44 ° 25 ′ 57 '' N 26 ° 06 ′ 14 '' E \\ufeff / \\ufeff 44.43250 ° N 26.10389 ° E \\ufeff / 44.43250 ; 26.10389 Coordinates : 44 ° 25 ′ 57 '' N 26 ° 06 ′ 14 '' E \\ufeff / \\ufeff 44.43250 ° N 26.10389 ° E \\ufeff / 44.43250 ; 26.10389 , on the banks of the Dâmbovița River , less than 60 km ( 37.3 mi ) north of the Danube River and the Bulgarian border . Bucharest was first mentioned in\", metadata={'title': 'Bucharest', 'id': 943}), Document(page_content=\"Bucharest\\nBucharest - wikipedia Bucharest This article contains too many pictures , charts or diagrams for its overall length . Please help to improve this article by removing or adjusting the sandwiching of text between two images and indiscriminate galleries in accordance with the Manual of Style on use of images . ( Learn how and when to remove this template message ) Capital city in None , Romania Bucharest București Capital city From top , left to right : Central University Library Palace of the Parliament Arcul de Triumf Romanian Athenaeum Modernist skyscrapers CEC Palace Royal Palace of Bucharest Flag Coat of arms Nickname ( s ) : Micul Paris ( The Little Paris ) , Paris of the East Motto ( s ) : Patria și dreptul meu ( The Homeland and my right ) Bucharest Location of Bucharest in Romania Show map of Romania Bucharest Bucharest ( Europe ) Show map of Europe Coordinates : 44 ° 25 ′ 57 '' N 26 ° 6 ′ 14 '' E \\ufeff / \\ufeff 44.43250 ° N 26.10389 ° E \\ufeff / 44.43250 ; 26.10389 Country Romania County None First attested 1459 Government Mayor Gabriela Firea ( PSD ) Prefect Speranţa Cliseru Area Capital city 228 km ( 88 sq mi ) Urban 285 km ( 110 sq mi ) Elevation 55.8 -- 91.5 m ( 183.1 -- 300.2 ft ) Population ( 2011 ) Capital city 1,883,425 Estimate ( 2016 ) 2,106,144 Rank 1st in Romania ( 6th in\", metadata={'title': 'Bucharest', 'id': 942}), Document(page_content=\"Bucharest\\ndestroying a third of the city . Ottoman massacre of Greek irregulars in Bucharest ( August , 1821 ) In 1862 , after Wallachia and Moldavia were united to form the Principality of Romania , Bucharest became the new nation 's capital city . In 1881 , it became the political centre of the newly proclaimed Kingdom of Romania under King Carol I. During the second half of the 19th century , the city 's population increased dramatically , and a new period of urban development began . During this period , gas lighting , horse - drawn trams , and limited electrification were introduced . The Dâmbovița River was also massively channelled in 1883 , thus putting a stop to previously endemic floods like the 1865 flooding of Bucharest . The Fortifications of Bucharest were built . The extravagant architecture and cosmopolitan high culture of this period won Bucharest the nickname of `` Little Paris '' ( Micul Paris ) of the east , with Calea Victoriei as its Champs - Élysées . I.C. Brătianu Boulevard in the 1930s Between 6 December 1916 and November 1918 , the city was occupied by German forces as a result of the Battle of Bucharest , with the official capital temporarily moved to Iași , in the Moldavia region . After World War I , Bucharest became the capital of Greater Romania . In the interwar years , Bucharest 's urban development continued , with the city gaining an average of 30,000\", metadata={'title': 'Bucharest', 'id': 948}), Document(page_content=\"Bucharest\\ndocuments in 1459 . It became the capital of Romania in 1862 and is the centre of Romanian media , culture , and art . Its architecture is a mix of historical ( neo-classical ) , interbellum ( Bauhaus and art deco ) , communist - era and modern . In the period between the two World Wars , the city 's elegant architecture and the sophistication of its elite earned Bucharest the nickname of `` Little Paris '' ( Micul Paris ) . Although buildings and districts in the historic city centre were heavily damaged or destroyed by war , earthquakes , and above all Nicolae Ceaușescu 's program of systematization , many survived . In recent years , the city has been experiencing an economic and cultural boom . In 2016 , the historical city centre was listed as `` endangered '' by the World Monuments Watch . According to the 2011 census , 1,883,425 inhabitants live within the city limits , a decrease from the 2002 census . Adding the satellite towns around the urban area , the proposed metropolitan area of Bucharest would have a population of 2.27 million people . According to Eurostat , Bucharest has a functional urban area of 2,412,530 residents ( as of 2015 ) . Bucharest is the sixth - largest city in the European Union by population within city limits , after London , Berlin , Madrid , Rome , and Paris . Economically , Bucharest is the most prosperous\", metadata={'title': 'Bucharest', 'id': 944})]}\n"
     ]
    }
   ],
   "source": [
    "results = []\n",
    "\n",
    "\n",
    "for question in questions_and_answers.keys():\n",
    "\n",
    "    result = qa.invoke({'query': question})\n",
    "\n",
    "    print(\"result: \", result)\n",
    "    results.append( result)"
   ]
  },
  {
   "attachments": {},
   "cell_type": "markdown",
   "metadata": {},
   "source": [
    "Get the set of chunks for one of the questions."
   ]
  },
  {
   "cell_type": "code",
   "execution_count": 24,
   "metadata": {},
   "outputs": [
    {
     "name": "stdout",
     "output_type": "stream",
     "text": [
      "=========\n",
      "Question =  names of founding fathers of the united states?\n",
      "Answer =  John Adams , Benjamin Franklin , Alexander Hamilton , John Jay , Thomas Jefferson , James Madison , and George Washington\n",
      "Expected Answer(s) (may not be appear with exact wording in the dataset) =  Thomas Jefferson::James Madison::John Jay::George Washington::John Adams::Benjamin Franklin::Alexander Hamilton\n",
      "\n",
      "\n",
      "Source documents:\n",
      "Founding Fathers of the United States\n",
      "^ Burstein , Andrew . `` Politics and Personalities : Garry Wills takes a new look at a forgotten founder , slavery and the shaping of America '' , Chicago Tribune ( November 09 , 2003 ) : `` Forgotten founders such as Pickering and Morris made as many waves as those whose faces stare out from our currency . '' ^ Jump up to : Rafael , Ray . The Complete Idiot 's Guide to the Founding Fathers : And the Birth of Our Nation ( Penguin , 2011 ) . Jump up ^ `` Founding Fathers : Virginia '' . FindLaw Constitutional Law Center . 2008 . Retrieved 2008 - 11 - 14 . Jump up ^ Schwartz , Laurens R. Jews and the American Revolution : Haym Solomon and Others , Jefferson , North Carolina : McFarland & Co. , 1987 . Jump up ^ Kendall , Joshua . The Forgotten Founding Father : Noah Webster 's Obsession and the Creation of an American Culture ( Penguin 2011 ) . Jump up ^ Wright , R.E. ( 1996 ) . `` Thomas Willing ( 1731 - 1821 ) : Philadelphia Financier and Forgotten Founding Father '' . Pennsylvania History . 63 ( 4 ) : 525 -- 560 . doi : 10.2307 / 27773931 ( inactive 2017 - 01 - 15 ) . JSTOR 27773931 . Jump up ^ `` A Patriot of Early New England '' , New York Times ( December 20 , 1931 )\n",
      "Founding Fathers of the United States\n",
      "President of Congress Peyton Randolph New Hampshire John Sullivan Nathaniel Folsom Massachusetts Bay Thomas Cushing Samuel Adams John Adams Robert Treat Paine Rhode Island Stephen Hopkins Samuel Ward Connecticut Eliphalet Dyer Roger Sherman Silas Deane New York Isaac Low John Alsop John Jay James Duane Philip Livingston William Floyd Henry Wisner Simon Boerum New Jersey James Kinsey William Livingston Stephen Crane Richard Smith John De Hart Pennsylvania Joseph Galloway John Dickinson Charles Humphreys Thomas Mifflin Edward Biddle John Morton George Ross The Lower Counties Caesar Rodney Thomas McKean George Read Maryland Matthew Tilghman Thomas Johnson , Junr William Paca Samuel Chase Virginia Richard Henry Lee George Washington Patrick Henry , Junr Richard Bland Benjamin Harrison Edmund Pendleton North Carolina William Hooper Joseph Hewes Richard Caswell South Carolina Henry Middleton Thomas Lynch Christopher Gadsden John Rutledge Edward Rutledge See also Virginia Association First Continental Congress Carpenters ' Hall Declaration and Resolves of the First Continental Congress Retrieved from `` https://en.wikipedia.org/w/index.php?title=Founding_Fathers_of_the_United_States&oldid=815247535 '' Categories : Age of Enlightenment American Revolution Articles about multiple people Patriots in the American Revolution Political leaders of the American Revolution National founders Hidden categories : Webarchive template wayback links Pages with DOIs inactive since 2017 Use mdy dates from April 2011 Talk Read Contents About Wikipedia Wikiquote Bân - lâm - gú Башҡортса Bikol Central Български Brezhoneg Català Čeština Cymraeg Deutsch Ελληνικά Español Esperanto فارسی Français 한국어 Հայերեն हिन्दी Ido Bahasa Indonesia Interlingua Íslenska Italiano עברית Latina Lietuvių Magyar Bahasa Melayu Nederlands 日本 語 Norsk Polski Português Română\n",
      "Founding Fathers of the United States\n",
      "Founding Fathers of the United States - wikipedia Founding Fathers of the United States Jump to : navigation , search Declaration of Independence , a painting by John Trumbull depicting the Committee of Five presenting their draft to the Congress on June 28 , 1776 Signature page of Treaty of Paris ( 1783 ) ; the treaty was negotiated by John Adams , Benjamin Franklin and John Jay . The Founding Fathers of the United States were those individuals of the Thirteen Colonies in North America who led the American Revolution against the authority of the British Crown in word and deed and contributed to the establishment of the United States of America . Historian Richard B. Morris in 1973 identified the following seven figures as the key Founding Fathers : John Adams , Benjamin Franklin , Alexander Hamilton , John Jay , Thomas Jefferson , James Madison , and George Washington . Adams , Jefferson , and Franklin were members of the Committee of Five that drafted the Declaration of Independence . Hamilton , Madison , and Jay were authors of The Federalist Papers , advocating ratification of the Constitution . The constitutions drafted by Jay and Adams for their respective states of New York ( 1777 ) and Massachusetts ( 1780 ) were heavily relied upon when creating language for the US Constitution Jay , Adams and Franklin negotiated the Treaty of Paris ( 1783 ) that would end the American Revolutionary War . Washington was Commander -\n",
      "Founding Fathers of the United States\n",
      "Prior to , and during the 19th century , they were referred to as simply the `` Fathers '' . The term has been used to describe the founders and first settlers of the original royal colonies . Contents ( hide ) 1 Background 2 Interesting facts and commonalities 2.1 Education 2.1. 1 Colleges attended 2.1. 2 Advanced degrees and apprenticeships 2.1. 2.1 Doctors of medicine 2.1. 2.2 Theology 2.1. 2.3 Legal apprenticeships 2.1. 3 Self - taught or little formal education 2.2 Demographics 2.3 Political experience 2.4 Occupations and finances 2.5 Religion 2.6 Ownership of slaves and position on slavery 2.7 Attendance at conventions 2.8 Spouses and children 2.9 Charters of freedom and historical documents of the United States 2.10 Post-constitution life 2.11 Youth and longevity 2.12 Founders who were not signatories or delegates 3 Legacy 3.1 Institutions formed by Founders 3.2 Scholarship on the Founders 3.2. 1 Living historians whose focus is the Founding Fathers 3.2. 2 Noted collections of the Founding Fathers 3.3 In stage and film 3.4 Children 's books 4 See also 5 Notes 6 References 7 External links Background ( edit ) The Albany Congress of 1754 was a conference attended by seven colonies , which presaged later efforts at cooperation . The Stamp Act Congress of 1765 included representatives from nine colonies . The First Continental Congress met briefly in Philadelphia , Pennsylvania in 1774 , consisting of fifty - six delegates from twelve of the thirteen colonies ( excluding Georgia ) that\n",
      "\n",
      "\n",
      "=========\n",
      "Question =  who played in the super bowl in 2013?\n",
      "Answer =  Baltimore Ravens\n",
      "Expected Answer(s) (may not be appear with exact wording in the dataset) =  Baltimore Ravens::San Francisco 49ers\n",
      "\n",
      "\n",
      "Source documents:\n",
      "Super Bowl XLVII\n",
      "responded to the claim on Twitter in jest , tweeting `` There is no conspiracy . I pulled the plug . '' Box score ( edit ) Super Bowl XLVII : Baltimore Ravens 34 , San Francisco 49ers 31 Total Ravens ( AFC ) 7 14 7 6 34 49ers ( NFC ) 17 8 31 at Mercedes - Benz Superdome in New Orleans , Louisiana Date : February 3 , 2013 Game time : 5 : 31 p.m. CST Game weather : Played indoors ( dome stadium ) Game attendance : 71,024 Referee : Jerome Boger TV announcers ( CBS ) : Jim Nantz , Phil Simms , Steve Tasker , Solomon Wilcots Gamebook ( hide ) Scoring summary Quarter Time Drive Team Scoring information Score Plays Yards TOP BAL SF 10 : 36 6 51 2 : 29 BAL Anquan Boldin 13 - yard touchdown reception from Joe Flacco , Justin Tucker kick good 7 0 3 : 58 12 62 6 : 38 SF 36 - yard field goal by David Akers 7 7 : 10 10 75 4 : 43 BAL Dennis Pitta 1 - yard touchdown reception from Flacco , Tucker kick good 14 1 : 45 56 0 : 22 BAL Jacoby Jones 56 - yard touchdown reception from Flacco , Tucker kick good 21 0 : 00 8 71 1 : 45 SF 27 - yard field goal by Akers 21 6 14 : 49 -- -- -- BAL J. Jones 108 -\n",
      "Super Bowl XLVII\n",
      "for the 2012 season . The Ravens defeated the 49ers by the score of 34 -- 31 , handing the 49ers their first Super Bowl loss in franchise history . The game was played on February 3 , 2013 , at Mercedes - Benz Superdome in New Orleans , Louisiana . This was the tenth Super Bowl to be played in New Orleans , equaling Miami 's record of ten in an individual city . For the first time in Super Bowl history , the game featured two brothers coaching against each other -- Jim and John Harbaugh , head coaches of the San Francisco 49ers and Baltimore Ravens , respectively -- earning it the nickname Harbaugh Bowl . In addition , Super Bowl XLVII was the first to feature two teams that had undefeated records in previous Super Bowl games ( Baltimore , 1 -- 0 ; San Francisco , 5 -- 0 ) . The 49ers , who posted a regular - season record of 11 -- 4 -- 1 , entered the game seeking their sixth Super Bowl win in team history ( and first since Super Bowl XXIX at the end of the 1994 season ) , which would have tied the Pittsburgh Steelers for the most by a franchise . The Ravens , who posted a 10 -- 6 regular - season record , made their second Super Bowl appearance in 12 years , having previously won Super Bowl XXXV . Ray Lewis , the\n",
      "Super Bowl XLVII\n",
      "preview : A minute - by - minute breakdown '' . USA Today . Retrieved February 2 , 2013 . Jump up ^ `` Beyonce half time performance '' . NFL.Com . February 4 , 2013 . Retrieved February 5 , 2013 . Jump up ^ `` Beyonce wows at half - time show '' . BBC News . February 4 , 2013 . Retrieved February 5 , 2013 . Jump up ^ `` Beyonce Draws Estimated 104 Million to Super Bowl Halftime '' . ^ Jump up to : `` Play - by - Play '' . ESPN . February 3 , 2013 . Retrieved February 4 , 2013 . Jump up ^ Inman , Cam ( February 3 , 2013 ) . `` Super Bowl 2013 : San Francisco 49ers ' furious comeback falls short in 34 -- 31 loss to Baltimore Ravens -- San Jose Mercury News '' . San Jose Mercury News . Retrieved February 4 , 2013 . ^ Jump up to : `` Jacoby Jones returns kick 108 yards '' . ESPN.com . February 4 , 2013 . Retrieved April 24 , 2016 . Jump up ^ `` Watch Baltimore Ravens vs. Denver Broncos ( 01 / 12 / 2013 ) '' . NFL . Retrieved February 4 , 2013 . ^ Jump up to : Rosenthal , Gregg ( February 3 , 2013 ) . `` Jacoby Jones ' 108 - yard return TD a Super Bowl record '' . NFL . Retrieved\n",
      "Super Bowl XLVII\n",
      "MVP Award '' . Forbes.com . February 4 , 2013 . Retrieved February 6 , 2013 . Jump up ^ Heitner , Darren ( April 18 , 2013 ) . `` Is It Worth Spending $4 Million On A Super Bowl Commercial ? '' . Forbes . Retrieved February 4 , 2013 . Jump up ^ Collins , Scott ( February 5 , 2013 ) . `` Super Bowl ratings dip slightly from last year '' . Los Angeles Times . Retrieved February 5 , 2013 . ^ Jump up to : `` New Orleans to host 10th Super Bowl in 2013 '' . ESPN.com . Associated Press . May 19 , 2009 . Retrieved January 14 , 2011 . Jump up ^ Ally Burguieres Designs Official NFL Beads with Courtyard by Marriott for SuperBowl -- WGNO -- YouTube on YouTube Jump up ^ Wilner , Barry ( January 21 , 2013 ) . `` Ravens dominate Pats , set up ' Harbaugh Bowl ' '' . NBC Sports . Associated Press . Retrieved January 21 , 2013 . Jump up ^ Brinson , Will . `` Sorting the Sunday Pile , Divisional Round : Harbaugh Bowl still lives '' . CBSSports.com . CBS Interactive . Retrieved January 21 , 2013 . Jump up ^ Schwab , Frank . `` HarBowl ! Harbaugh brothers Jim and John to square off in Super Bowl '' . Yahoo ! Sports . Retrieved January 21 , 2003 . Jump up ^ `` The\n",
      "\n",
      "\n",
      "=========\n",
      "Question =  when did bucharest become the capital of romania?\n",
      "Answer =  1862\n",
      "Expected Answer(s) (may not be appear with exact wording in the dataset) =  1862\n",
      "\n",
      "\n",
      "Source documents:\n",
      "Bucharest\n",
      "EU ) Density 9,237 / km ( 23,920 / sq mi ) Metro 2,412,530 Demonym ( s ) Bucharester ( en ) bucureștean , bucureșteancă ( ro ) Time zone UTC + 2 ( EET ) Summer ( DST ) UTC + 3 ( EEST ) Postal code 0xxxxx Area code ( s ) + 40 x1 Car plate prefix GDP ( Nominal ) € 47 billion - Per capita PPP € 40,400 -- Per capita € 20,000 Website pmb.ro Romanian law stipulates that Bucharest has a special administrative status which is equal to that of a County ; Bucharest metropolitan area is a proposed project . Bucharest ( / ˈb ( j ) uː kərɛst / ; Romanian : București ( bukuˈreʃtj ) ( listen ) ) is the capital and largest city of Romania , as well as its cultural , industrial , and financial centre . It is located in the southeast of the country , at 44 ° 25 ′ 57 '' N 26 ° 06 ′ 14 '' E ﻿ / ﻿ 44.43250 ° N 26.10389 ° E ﻿ / 44.43250 ; 26.10389 Coordinates : 44 ° 25 ′ 57 '' N 26 ° 06 ′ 14 '' E ﻿ / ﻿ 44.43250 ° N 26.10389 ° E ﻿ / 44.43250 ; 26.10389 , on the banks of the Dâmbovița River , less than 60 km ( 37.3 mi ) north of the Danube River and the Bulgarian border . Bucharest was first mentioned in\n",
      "Bucharest\n",
      "Bucharest - wikipedia Bucharest This article contains too many pictures , charts or diagrams for its overall length . Please help to improve this article by removing or adjusting the sandwiching of text between two images and indiscriminate galleries in accordance with the Manual of Style on use of images . ( Learn how and when to remove this template message ) Capital city in None , Romania Bucharest București Capital city From top , left to right : Central University Library Palace of the Parliament Arcul de Triumf Romanian Athenaeum Modernist skyscrapers CEC Palace Royal Palace of Bucharest Flag Coat of arms Nickname ( s ) : Micul Paris ( The Little Paris ) , Paris of the East Motto ( s ) : Patria și dreptul meu ( The Homeland and my right ) Bucharest Location of Bucharest in Romania Show map of Romania Bucharest Bucharest ( Europe ) Show map of Europe Coordinates : 44 ° 25 ′ 57 '' N 26 ° 6 ′ 14 '' E ﻿ / ﻿ 44.43250 ° N 26.10389 ° E ﻿ / 44.43250 ; 26.10389 Country Romania County None First attested 1459 Government Mayor Gabriela Firea ( PSD ) Prefect Speranţa Cliseru Area Capital city 228 km ( 88 sq mi ) Urban 285 km ( 110 sq mi ) Elevation 55.8 -- 91.5 m ( 183.1 -- 300.2 ft ) Population ( 2011 ) Capital city 1,883,425 Estimate ( 2016 ) 2,106,144 Rank 1st in Romania ( 6th in\n",
      "Bucharest\n",
      "destroying a third of the city . Ottoman massacre of Greek irregulars in Bucharest ( August , 1821 ) In 1862 , after Wallachia and Moldavia were united to form the Principality of Romania , Bucharest became the new nation 's capital city . In 1881 , it became the political centre of the newly proclaimed Kingdom of Romania under King Carol I. During the second half of the 19th century , the city 's population increased dramatically , and a new period of urban development began . During this period , gas lighting , horse - drawn trams , and limited electrification were introduced . The Dâmbovița River was also massively channelled in 1883 , thus putting a stop to previously endemic floods like the 1865 flooding of Bucharest . The Fortifications of Bucharest were built . The extravagant architecture and cosmopolitan high culture of this period won Bucharest the nickname of `` Little Paris '' ( Micul Paris ) of the east , with Calea Victoriei as its Champs - Élysées . I.C. Brătianu Boulevard in the 1930s Between 6 December 1916 and November 1918 , the city was occupied by German forces as a result of the Battle of Bucharest , with the official capital temporarily moved to Iași , in the Moldavia region . After World War I , Bucharest became the capital of Greater Romania . In the interwar years , Bucharest 's urban development continued , with the city gaining an average of 30,000\n",
      "Bucharest\n",
      "documents in 1459 . It became the capital of Romania in 1862 and is the centre of Romanian media , culture , and art . Its architecture is a mix of historical ( neo-classical ) , interbellum ( Bauhaus and art deco ) , communist - era and modern . In the period between the two World Wars , the city 's elegant architecture and the sophistication of its elite earned Bucharest the nickname of `` Little Paris '' ( Micul Paris ) . Although buildings and districts in the historic city centre were heavily damaged or destroyed by war , earthquakes , and above all Nicolae Ceaușescu 's program of systematization , many survived . In recent years , the city has been experiencing an economic and cultural boom . In 2016 , the historical city centre was listed as `` endangered '' by the World Monuments Watch . According to the 2011 census , 1,883,425 inhabitants live within the city limits , a decrease from the 2002 census . Adding the satellite towns around the urban area , the proposed metropolitan area of Bucharest would have a population of 2.27 million people . According to Eurostat , Bucharest has a functional urban area of 2,412,530 residents ( as of 2015 ) . Bucharest is the sixth - largest city in the European Union by population within city limits , after London , Berlin , Madrid , Rome , and Paris . Economically , Bucharest is the most prosperous\n",
      "\n",
      "\n"
     ]
    }
   ],
   "source": [
    "for idx, result in enumerate(results):\n",
    "    print(\"=========\")\n",
    "    print(\"Question = \", result['query'])\n",
    "    print(\"Answer = \", result['result'])\n",
    "    print(\"Expected Answer(s) (may not be appear with exact wording in the dataset) = \", questions_and_answers[result['query']])\n",
    "    print(\"\\n\")\n",
    "    print(\"Source documents:\")\n",
    "    print(*(x.page_content for x in result['source_documents']), sep='\\n')\n",
    "    print(\"\\n\")\n",
    "    "
   ]
  },
  {
   "attachments": {},
   "cell_type": "markdown",
   "metadata": {},
   "source": [
    "---"
   ]
  },
  {
   "attachments": {},
   "cell_type": "markdown",
   "metadata": {},
   "source": [
    "Copyright © 2023 IBM. This notebook and its source code are released under the terms of the MIT License."
   ]
  }
 ],
 "metadata": {
  "kernelspec": {
   "display_name": "BIG-bench",
   "language": "python",
   "name": "python3"
  },
  "language_info": {
   "codemirror_mode": {
    "name": "ipython",
    "version": 3
   },
   "file_extension": ".py",
   "mimetype": "text/x-python",
   "name": "python",
   "nbconvert_exporter": "python",
   "pygments_lexer": "ipython3",
   "version": "3.11.0"
  }
 },
 "nbformat": 4,
 "nbformat_minor": 4
}
